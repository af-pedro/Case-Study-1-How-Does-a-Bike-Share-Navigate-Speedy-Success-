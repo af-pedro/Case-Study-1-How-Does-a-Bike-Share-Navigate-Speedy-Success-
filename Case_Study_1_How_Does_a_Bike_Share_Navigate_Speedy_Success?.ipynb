{
  "nbformat": 4,
  "nbformat_minor": 0,
  "metadata": {
    "colab": {
      "provenance": [],
      "mount_file_id": "1x6TKdhprVyUH23_artyZPW1T_xRfkltE",
      "authorship_tag": "ABX9TyMlVTETyxugDFPbuM3uz5Wm",
      "include_colab_link": true
    },
    "kernelspec": {
      "name": "python3",
      "display_name": "Python 3"
    },
    "language_info": {
      "name": "python"
    }
  },
  "cells": [
    {
      "cell_type": "markdown",
      "metadata": {
        "id": "view-in-github",
        "colab_type": "text"
      },
      "source": [
        "<a href=\"https://colab.research.google.com/github/af-pedro/Case-Study-1-How-Does-a-Bike-Share-Navigate-Speedy-Success-/blob/main/Case_Study_1_How_Does_a_Bike_Share_Navigate_Speedy_Success%3F.ipynb\" target=\"_parent\"><img src=\"https://colab.research.google.com/assets/colab-badge.svg\" alt=\"Open In Colab\"/></a>"
      ]
    },
    {
      "cell_type": "markdown",
      "source": [
        "**Loading packages**"
      ],
      "metadata": {
        "id": "zxelCZdag849"
      }
    },
    {
      "cell_type": "code",
      "execution_count": null,
      "metadata": {
        "id": "Neb5o2LeUtQ1"
      },
      "outputs": [],
      "source": [
        "import pandas as pd\n",
        "import numpy as np\n",
        "import matplotlib.pyplot as plt\n",
        "import seaborn as sns\n",
        "from geopy.distance import geodesic\n",
        "from google.colab import files"
      ]
    },
    {
      "cell_type": "markdown",
      "source": [
        "**Prepare**\n",
        "\n",
        "*   Downloading and integrating different datasets;\n",
        "*   Transforming and cleaning the data;\n",
        "*   Selection of relevant variables\n"
      ],
      "metadata": {
        "id": "HZ5sqNIGgoKT"
      }
    },
    {
      "cell_type": "code",
      "source": [
        "# Loading files - jan.2023 to dec.2023\n",
        "\n",
        "bikedata_jan2023 = pd.read_csv(\"/202301-divvy-tripdata.csv\")\n",
        "bikedata_fev2023 = pd.read_csv(\"/202302-divvy-tripdata.csv\")\n",
        "bikedata_mar2023 = pd.read_csv(\"/202303-divvy-tripdata.csv\")\n",
        "bikedata_abr2023 = pd.read_csv(\"/202304-divvy-tripdata.csv\")\n",
        "bikedata_mai2023 = pd.read_csv(\"/202305-divvy-tripdata.csv\")\n",
        "bikedata_jun2023 = pd.read_csv(\"/202306-divvy-tripdata.csv\")\n",
        "bikedata_jul2023 = pd.read_csv(\"/202307-divvy-tripdata.csv\")\n",
        "bikedata_ago2023 = pd.read_csv(\"/202308-divvy-tripdata.csv\")\n",
        "bikedata_set2023 = pd.read_csv(\"/202309-divvy-tripdata.csv\")\n",
        "bikedata_out2023 = pd.read_csv(\"/202310-divvy-tripdata.csv\")\n",
        "bikedata_nov2023 = pd.read_csv(\"/202311-divvy-tripdata.csv\")\n",
        "bikedata_dec2023 = pd.read_csv(\"/202312-divvy-tripdata.csv\")"
      ],
      "metadata": {
        "id": "tQMDpzJfU_07"
      },
      "execution_count": null,
      "outputs": []
    },
    {
      "cell_type": "code",
      "source": [
        "print(bikedata_jan2023.info())\n",
        "print(bikedata_fev2023.info())\n",
        "print(bikedata_mar2023.info())\n",
        "print(bikedata_abr2023.info())\n",
        "print(bikedata_mai2023.info())\n",
        "print(bikedata_jun2023.info())\n",
        "print(bikedata_jul2023.info())\n",
        "print(bikedata_ago2023.info())\n",
        "print(bikedata_set2023.info())\n",
        "print(bikedata_out2023.info())\n",
        "print(bikedata_nov2023.info())\n",
        "print(bikedata_dec2023.info())"
      ],
      "metadata": {
        "id": "7Uth_T2xaA3n"
      },
      "execution_count": null,
      "outputs": []
    },
    {
      "cell_type": "code",
      "source": [
        "# Concat the files\n",
        "\n",
        "bikedata = pd.concat([bikedata_jan2023, bikedata_fev2023, bikedata_mar2023, bikedata_abr2023, bikedata_mai2023,\n",
        "                     bikedata_jun2023, bikedata_jul2023, bikedata_ago2023, bikedata_set2023, bikedata_out2023,\n",
        "                     bikedata_nov2023, bikedata_dec2023], ignore_index = True)\n",
        "\n",
        "print(bikedata)"
      ],
      "metadata": {
        "colab": {
          "base_uri": "https://localhost:8080/"
        },
        "id": "R_rYMLBbb3sQ",
        "outputId": "068d9b45-425d-4f4c-df02-f6523dbf82af"
      },
      "execution_count": null,
      "outputs": [
        {
          "output_type": "stream",
          "name": "stdout",
          "text": [
            "                  ride_id  rideable_type           started_at  \\\n",
            "0        F96D5A74A3E41399  electric_bike  2023-01-21 20:05:42   \n",
            "1        13CB7EB698CEDB88   classic_bike  2023-01-10 15:37:36   \n",
            "2        BD88A2E670661CE5  electric_bike  2023-01-02 07:51:57   \n",
            "3        C90792D034FED968   classic_bike  2023-01-22 10:52:58   \n",
            "4        3397017529188E8A   classic_bike  2023-01-12 13:58:01   \n",
            "...                   ...            ...                  ...   \n",
            "5719872  F74DF9549B504A6B  electric_bike  2023-12-07 13:15:24   \n",
            "5719873  BCDA66E761CC1029   classic_bike  2023-12-08 18:42:21   \n",
            "5719874  D2CF330F9C266683   classic_bike  2023-12-05 14:09:11   \n",
            "5719875  3829A0D1E00EE970  electric_bike  2023-12-02 21:36:07   \n",
            "5719876  A373F5B447AEA508   classic_bike  2023-12-11 13:07:46   \n",
            "\n",
            "                    ended_at           start_station_name start_station_id  \\\n",
            "0        2023-01-21 20:16:33  Lincoln Ave & Fullerton Ave     TA1309000058   \n",
            "1        2023-01-10 15:46:05        Kimbark Ave & 53rd St     TA1309000037   \n",
            "2        2023-01-02 08:05:11       Western Ave & Lunt Ave           RP-005   \n",
            "3        2023-01-22 11:01:44        Kimbark Ave & 53rd St     TA1309000037   \n",
            "4        2023-01-12 14:13:20        Kimbark Ave & 53rd St     TA1309000037   \n",
            "...                      ...                          ...              ...   \n",
            "5719872  2023-12-07 13:17:37            900 W Harrison St            13028   \n",
            "5719873  2023-12-08 18:45:56            900 W Harrison St            13028   \n",
            "5719874  2023-12-05 14:13:01            900 W Harrison St            13028   \n",
            "5719875  2023-12-02 21:53:45       Damen Ave & Madison St            13134   \n",
            "5719876  2023-12-11 13:11:24            900 W Harrison St            13028   \n",
            "\n",
            "                       end_station_name end_station_id  start_lat  start_lng  \\\n",
            "0             Hampden Ct & Diversey Ave       202480.0  41.924074 -87.646278   \n",
            "1               Greenwood Ave & 47th St   TA1308000002  41.799568 -87.594747   \n",
            "2        Valli Produce - Evanston Plaza            599  42.008571 -87.690483   \n",
            "3               Greenwood Ave & 47th St   TA1308000002  41.799568 -87.594747   \n",
            "4               Greenwood Ave & 47th St   TA1308000002  41.799568 -87.594747   \n",
            "...                                 ...            ...        ...        ...   \n",
            "5719872      Racine Ave & Congress Pkwy   TA1306000025  41.874702 -87.649804   \n",
            "5719873      Racine Ave & Congress Pkwy   TA1306000025  41.874754 -87.649807   \n",
            "5719874      Racine Ave & Congress Pkwy   TA1306000025  41.874754 -87.649807   \n",
            "5719875            Morgan St & Lake St*   chargingstx4  41.881396 -87.674984   \n",
            "5719876      Racine Ave & Congress Pkwy   TA1306000025  41.874754 -87.649807   \n",
            "\n",
            "           end_lat    end_lng member_casual  \n",
            "0        41.930000 -87.640000        member  \n",
            "1        41.809835 -87.599383        member  \n",
            "2        42.039742 -87.699413        casual  \n",
            "3        41.809835 -87.599383        member  \n",
            "4        41.809835 -87.599383        member  \n",
            "...            ...        ...           ...  \n",
            "5719872  41.874640 -87.657030        casual  \n",
            "5719873  41.874640 -87.657030        casual  \n",
            "5719874  41.874640 -87.657030        member  \n",
            "5719875  41.885492 -87.652289        casual  \n",
            "5719876  41.874640 -87.657030        member  \n",
            "\n",
            "[5719877 rows x 13 columns]\n"
          ]
        }
      ]
    },
    {
      "cell_type": "code",
      "source": [
        "print(bikedata.head())"
      ],
      "metadata": {
        "colab": {
          "base_uri": "https://localhost:8080/"
        },
        "id": "nOIDKIBlfDLv",
        "outputId": "ee69838e-2a98-4ebb-a6f4-8c234352bc08"
      },
      "execution_count": null,
      "outputs": [
        {
          "output_type": "stream",
          "name": "stdout",
          "text": [
            "            ride_id  rideable_type           started_at             ended_at  \\\n",
            "0  F96D5A74A3E41399  electric_bike  2023-01-21 20:05:42  2023-01-21 20:16:33   \n",
            "1  13CB7EB698CEDB88   classic_bike  2023-01-10 15:37:36  2023-01-10 15:46:05   \n",
            "2  BD88A2E670661CE5  electric_bike  2023-01-02 07:51:57  2023-01-02 08:05:11   \n",
            "3  C90792D034FED968   classic_bike  2023-01-22 10:52:58  2023-01-22 11:01:44   \n",
            "4  3397017529188E8A   classic_bike  2023-01-12 13:58:01  2023-01-12 14:13:20   \n",
            "\n",
            "            start_station_name start_station_id  \\\n",
            "0  Lincoln Ave & Fullerton Ave     TA1309000058   \n",
            "1        Kimbark Ave & 53rd St     TA1309000037   \n",
            "2       Western Ave & Lunt Ave           RP-005   \n",
            "3        Kimbark Ave & 53rd St     TA1309000037   \n",
            "4        Kimbark Ave & 53rd St     TA1309000037   \n",
            "\n",
            "                 end_station_name end_station_id  start_lat  start_lng  \\\n",
            "0       Hampden Ct & Diversey Ave       202480.0  41.924074 -87.646278   \n",
            "1         Greenwood Ave & 47th St   TA1308000002  41.799568 -87.594747   \n",
            "2  Valli Produce - Evanston Plaza            599  42.008571 -87.690483   \n",
            "3         Greenwood Ave & 47th St   TA1308000002  41.799568 -87.594747   \n",
            "4         Greenwood Ave & 47th St   TA1308000002  41.799568 -87.594747   \n",
            "\n",
            "     end_lat    end_lng member_casual  \n",
            "0  41.930000 -87.640000        member  \n",
            "1  41.809835 -87.599383        member  \n",
            "2  42.039742 -87.699413        casual  \n",
            "3  41.809835 -87.599383        member  \n",
            "4  41.809835 -87.599383        member  \n"
          ]
        }
      ]
    },
    {
      "cell_type": "code",
      "source": [
        "print(bikedata.info())"
      ],
      "metadata": {
        "colab": {
          "base_uri": "https://localhost:8080/"
        },
        "id": "c7Z6qJ1JfSOe",
        "outputId": "51ee00c5-125c-4196-fd6f-e02966d68f63"
      },
      "execution_count": null,
      "outputs": [
        {
          "output_type": "stream",
          "name": "stdout",
          "text": [
            "<class 'pandas.core.frame.DataFrame'>\n",
            "RangeIndex: 5719877 entries, 0 to 5719876\n",
            "Data columns (total 13 columns):\n",
            " #   Column              Dtype  \n",
            "---  ------              -----  \n",
            " 0   ride_id             object \n",
            " 1   rideable_type       object \n",
            " 2   started_at          object \n",
            " 3   ended_at            object \n",
            " 4   start_station_name  object \n",
            " 5   start_station_id    object \n",
            " 6   end_station_name    object \n",
            " 7   end_station_id      object \n",
            " 8   start_lat           float64\n",
            " 9   start_lng           float64\n",
            " 10  end_lat             float64\n",
            " 11  end_lng             float64\n",
            " 12  member_casual       object \n",
            "dtypes: float64(4), object(9)\n",
            "memory usage: 567.3+ MB\n",
            "None\n"
          ]
        }
      ]
    },
    {
      "cell_type": "code",
      "source": [
        "bikedata.head()"
      ],
      "metadata": {
        "colab": {
          "base_uri": "https://localhost:8080/",
          "height": 399
        },
        "id": "LW-hcC-CfZsV",
        "outputId": "1eeb41e5-1f0b-4d9b-f1f7-76a00df4280e"
      },
      "execution_count": null,
      "outputs": [
        {
          "output_type": "execute_result",
          "data": {
            "text/plain": [
              "            ride_id  rideable_type           started_at             ended_at  \\\n",
              "0  F96D5A74A3E41399  electric_bike  2023-01-21 20:05:42  2023-01-21 20:16:33   \n",
              "1  13CB7EB698CEDB88   classic_bike  2023-01-10 15:37:36  2023-01-10 15:46:05   \n",
              "2  BD88A2E670661CE5  electric_bike  2023-01-02 07:51:57  2023-01-02 08:05:11   \n",
              "3  C90792D034FED968   classic_bike  2023-01-22 10:52:58  2023-01-22 11:01:44   \n",
              "4  3397017529188E8A   classic_bike  2023-01-12 13:58:01  2023-01-12 14:13:20   \n",
              "\n",
              "            start_station_name start_station_id  \\\n",
              "0  Lincoln Ave & Fullerton Ave     TA1309000058   \n",
              "1        Kimbark Ave & 53rd St     TA1309000037   \n",
              "2       Western Ave & Lunt Ave           RP-005   \n",
              "3        Kimbark Ave & 53rd St     TA1309000037   \n",
              "4        Kimbark Ave & 53rd St     TA1309000037   \n",
              "\n",
              "                 end_station_name end_station_id  start_lat  start_lng  \\\n",
              "0       Hampden Ct & Diversey Ave       202480.0  41.924074 -87.646278   \n",
              "1         Greenwood Ave & 47th St   TA1308000002  41.799568 -87.594747   \n",
              "2  Valli Produce - Evanston Plaza            599  42.008571 -87.690483   \n",
              "3         Greenwood Ave & 47th St   TA1308000002  41.799568 -87.594747   \n",
              "4         Greenwood Ave & 47th St   TA1308000002  41.799568 -87.594747   \n",
              "\n",
              "     end_lat    end_lng member_casual  \n",
              "0  41.930000 -87.640000        member  \n",
              "1  41.809835 -87.599383        member  \n",
              "2  42.039742 -87.699413        casual  \n",
              "3  41.809835 -87.599383        member  \n",
              "4  41.809835 -87.599383        member  "
            ],
            "text/html": [
              "\n",
              "  <div id=\"df-e6d1f814-34fc-4975-82c7-d221fe8b0f36\" class=\"colab-df-container\">\n",
              "    <div>\n",
              "<style scoped>\n",
              "    .dataframe tbody tr th:only-of-type {\n",
              "        vertical-align: middle;\n",
              "    }\n",
              "\n",
              "    .dataframe tbody tr th {\n",
              "        vertical-align: top;\n",
              "    }\n",
              "\n",
              "    .dataframe thead th {\n",
              "        text-align: right;\n",
              "    }\n",
              "</style>\n",
              "<table border=\"1\" class=\"dataframe\">\n",
              "  <thead>\n",
              "    <tr style=\"text-align: right;\">\n",
              "      <th></th>\n",
              "      <th>ride_id</th>\n",
              "      <th>rideable_type</th>\n",
              "      <th>started_at</th>\n",
              "      <th>ended_at</th>\n",
              "      <th>start_station_name</th>\n",
              "      <th>start_station_id</th>\n",
              "      <th>end_station_name</th>\n",
              "      <th>end_station_id</th>\n",
              "      <th>start_lat</th>\n",
              "      <th>start_lng</th>\n",
              "      <th>end_lat</th>\n",
              "      <th>end_lng</th>\n",
              "      <th>member_casual</th>\n",
              "    </tr>\n",
              "  </thead>\n",
              "  <tbody>\n",
              "    <tr>\n",
              "      <th>0</th>\n",
              "      <td>F96D5A74A3E41399</td>\n",
              "      <td>electric_bike</td>\n",
              "      <td>2023-01-21 20:05:42</td>\n",
              "      <td>2023-01-21 20:16:33</td>\n",
              "      <td>Lincoln Ave &amp; Fullerton Ave</td>\n",
              "      <td>TA1309000058</td>\n",
              "      <td>Hampden Ct &amp; Diversey Ave</td>\n",
              "      <td>202480.0</td>\n",
              "      <td>41.924074</td>\n",
              "      <td>-87.646278</td>\n",
              "      <td>41.930000</td>\n",
              "      <td>-87.640000</td>\n",
              "      <td>member</td>\n",
              "    </tr>\n",
              "    <tr>\n",
              "      <th>1</th>\n",
              "      <td>13CB7EB698CEDB88</td>\n",
              "      <td>classic_bike</td>\n",
              "      <td>2023-01-10 15:37:36</td>\n",
              "      <td>2023-01-10 15:46:05</td>\n",
              "      <td>Kimbark Ave &amp; 53rd St</td>\n",
              "      <td>TA1309000037</td>\n",
              "      <td>Greenwood Ave &amp; 47th St</td>\n",
              "      <td>TA1308000002</td>\n",
              "      <td>41.799568</td>\n",
              "      <td>-87.594747</td>\n",
              "      <td>41.809835</td>\n",
              "      <td>-87.599383</td>\n",
              "      <td>member</td>\n",
              "    </tr>\n",
              "    <tr>\n",
              "      <th>2</th>\n",
              "      <td>BD88A2E670661CE5</td>\n",
              "      <td>electric_bike</td>\n",
              "      <td>2023-01-02 07:51:57</td>\n",
              "      <td>2023-01-02 08:05:11</td>\n",
              "      <td>Western Ave &amp; Lunt Ave</td>\n",
              "      <td>RP-005</td>\n",
              "      <td>Valli Produce - Evanston Plaza</td>\n",
              "      <td>599</td>\n",
              "      <td>42.008571</td>\n",
              "      <td>-87.690483</td>\n",
              "      <td>42.039742</td>\n",
              "      <td>-87.699413</td>\n",
              "      <td>casual</td>\n",
              "    </tr>\n",
              "    <tr>\n",
              "      <th>3</th>\n",
              "      <td>C90792D034FED968</td>\n",
              "      <td>classic_bike</td>\n",
              "      <td>2023-01-22 10:52:58</td>\n",
              "      <td>2023-01-22 11:01:44</td>\n",
              "      <td>Kimbark Ave &amp; 53rd St</td>\n",
              "      <td>TA1309000037</td>\n",
              "      <td>Greenwood Ave &amp; 47th St</td>\n",
              "      <td>TA1308000002</td>\n",
              "      <td>41.799568</td>\n",
              "      <td>-87.594747</td>\n",
              "      <td>41.809835</td>\n",
              "      <td>-87.599383</td>\n",
              "      <td>member</td>\n",
              "    </tr>\n",
              "    <tr>\n",
              "      <th>4</th>\n",
              "      <td>3397017529188E8A</td>\n",
              "      <td>classic_bike</td>\n",
              "      <td>2023-01-12 13:58:01</td>\n",
              "      <td>2023-01-12 14:13:20</td>\n",
              "      <td>Kimbark Ave &amp; 53rd St</td>\n",
              "      <td>TA1309000037</td>\n",
              "      <td>Greenwood Ave &amp; 47th St</td>\n",
              "      <td>TA1308000002</td>\n",
              "      <td>41.799568</td>\n",
              "      <td>-87.594747</td>\n",
              "      <td>41.809835</td>\n",
              "      <td>-87.599383</td>\n",
              "      <td>member</td>\n",
              "    </tr>\n",
              "  </tbody>\n",
              "</table>\n",
              "</div>\n",
              "    <div class=\"colab-df-buttons\">\n",
              "\n",
              "  <div class=\"colab-df-container\">\n",
              "    <button class=\"colab-df-convert\" onclick=\"convertToInteractive('df-e6d1f814-34fc-4975-82c7-d221fe8b0f36')\"\n",
              "            title=\"Convert this dataframe to an interactive table.\"\n",
              "            style=\"display:none;\">\n",
              "\n",
              "  <svg xmlns=\"http://www.w3.org/2000/svg\" height=\"24px\" viewBox=\"0 -960 960 960\">\n",
              "    <path d=\"M120-120v-720h720v720H120Zm60-500h600v-160H180v160Zm220 220h160v-160H400v160Zm0 220h160v-160H400v160ZM180-400h160v-160H180v160Zm440 0h160v-160H620v160ZM180-180h160v-160H180v160Zm440 0h160v-160H620v160Z\"/>\n",
              "  </svg>\n",
              "    </button>\n",
              "\n",
              "  <style>\n",
              "    .colab-df-container {\n",
              "      display:flex;\n",
              "      gap: 12px;\n",
              "    }\n",
              "\n",
              "    .colab-df-convert {\n",
              "      background-color: #E8F0FE;\n",
              "      border: none;\n",
              "      border-radius: 50%;\n",
              "      cursor: pointer;\n",
              "      display: none;\n",
              "      fill: #1967D2;\n",
              "      height: 32px;\n",
              "      padding: 0 0 0 0;\n",
              "      width: 32px;\n",
              "    }\n",
              "\n",
              "    .colab-df-convert:hover {\n",
              "      background-color: #E2EBFA;\n",
              "      box-shadow: 0px 1px 2px rgba(60, 64, 67, 0.3), 0px 1px 3px 1px rgba(60, 64, 67, 0.15);\n",
              "      fill: #174EA6;\n",
              "    }\n",
              "\n",
              "    .colab-df-buttons div {\n",
              "      margin-bottom: 4px;\n",
              "    }\n",
              "\n",
              "    [theme=dark] .colab-df-convert {\n",
              "      background-color: #3B4455;\n",
              "      fill: #D2E3FC;\n",
              "    }\n",
              "\n",
              "    [theme=dark] .colab-df-convert:hover {\n",
              "      background-color: #434B5C;\n",
              "      box-shadow: 0px 1px 3px 1px rgba(0, 0, 0, 0.15);\n",
              "      filter: drop-shadow(0px 1px 2px rgba(0, 0, 0, 0.3));\n",
              "      fill: #FFFFFF;\n",
              "    }\n",
              "  </style>\n",
              "\n",
              "    <script>\n",
              "      const buttonEl =\n",
              "        document.querySelector('#df-e6d1f814-34fc-4975-82c7-d221fe8b0f36 button.colab-df-convert');\n",
              "      buttonEl.style.display =\n",
              "        google.colab.kernel.accessAllowed ? 'block' : 'none';\n",
              "\n",
              "      async function convertToInteractive(key) {\n",
              "        const element = document.querySelector('#df-e6d1f814-34fc-4975-82c7-d221fe8b0f36');\n",
              "        const dataTable =\n",
              "          await google.colab.kernel.invokeFunction('convertToInteractive',\n",
              "                                                    [key], {});\n",
              "        if (!dataTable) return;\n",
              "\n",
              "        const docLinkHtml = 'Like what you see? Visit the ' +\n",
              "          '<a target=\"_blank\" href=https://colab.research.google.com/notebooks/data_table.ipynb>data table notebook</a>'\n",
              "          + ' to learn more about interactive tables.';\n",
              "        element.innerHTML = '';\n",
              "        dataTable['output_type'] = 'display_data';\n",
              "        await google.colab.output.renderOutput(dataTable, element);\n",
              "        const docLink = document.createElement('div');\n",
              "        docLink.innerHTML = docLinkHtml;\n",
              "        element.appendChild(docLink);\n",
              "      }\n",
              "    </script>\n",
              "  </div>\n",
              "\n",
              "\n",
              "<div id=\"df-4d0ec4b1-4af0-451a-89e0-7981f0330a66\">\n",
              "  <button class=\"colab-df-quickchart\" onclick=\"quickchart('df-4d0ec4b1-4af0-451a-89e0-7981f0330a66')\"\n",
              "            title=\"Suggest charts\"\n",
              "            style=\"display:none;\">\n",
              "\n",
              "<svg xmlns=\"http://www.w3.org/2000/svg\" height=\"24px\"viewBox=\"0 0 24 24\"\n",
              "     width=\"24px\">\n",
              "    <g>\n",
              "        <path d=\"M19 3H5c-1.1 0-2 .9-2 2v14c0 1.1.9 2 2 2h14c1.1 0 2-.9 2-2V5c0-1.1-.9-2-2-2zM9 17H7v-7h2v7zm4 0h-2V7h2v10zm4 0h-2v-4h2v4z\"/>\n",
              "    </g>\n",
              "</svg>\n",
              "  </button>\n",
              "\n",
              "<style>\n",
              "  .colab-df-quickchart {\n",
              "      --bg-color: #E8F0FE;\n",
              "      --fill-color: #1967D2;\n",
              "      --hover-bg-color: #E2EBFA;\n",
              "      --hover-fill-color: #174EA6;\n",
              "      --disabled-fill-color: #AAA;\n",
              "      --disabled-bg-color: #DDD;\n",
              "  }\n",
              "\n",
              "  [theme=dark] .colab-df-quickchart {\n",
              "      --bg-color: #3B4455;\n",
              "      --fill-color: #D2E3FC;\n",
              "      --hover-bg-color: #434B5C;\n",
              "      --hover-fill-color: #FFFFFF;\n",
              "      --disabled-bg-color: #3B4455;\n",
              "      --disabled-fill-color: #666;\n",
              "  }\n",
              "\n",
              "  .colab-df-quickchart {\n",
              "    background-color: var(--bg-color);\n",
              "    border: none;\n",
              "    border-radius: 50%;\n",
              "    cursor: pointer;\n",
              "    display: none;\n",
              "    fill: var(--fill-color);\n",
              "    height: 32px;\n",
              "    padding: 0;\n",
              "    width: 32px;\n",
              "  }\n",
              "\n",
              "  .colab-df-quickchart:hover {\n",
              "    background-color: var(--hover-bg-color);\n",
              "    box-shadow: 0 1px 2px rgba(60, 64, 67, 0.3), 0 1px 3px 1px rgba(60, 64, 67, 0.15);\n",
              "    fill: var(--button-hover-fill-color);\n",
              "  }\n",
              "\n",
              "  .colab-df-quickchart-complete:disabled,\n",
              "  .colab-df-quickchart-complete:disabled:hover {\n",
              "    background-color: var(--disabled-bg-color);\n",
              "    fill: var(--disabled-fill-color);\n",
              "    box-shadow: none;\n",
              "  }\n",
              "\n",
              "  .colab-df-spinner {\n",
              "    border: 2px solid var(--fill-color);\n",
              "    border-color: transparent;\n",
              "    border-bottom-color: var(--fill-color);\n",
              "    animation:\n",
              "      spin 1s steps(1) infinite;\n",
              "  }\n",
              "\n",
              "  @keyframes spin {\n",
              "    0% {\n",
              "      border-color: transparent;\n",
              "      border-bottom-color: var(--fill-color);\n",
              "      border-left-color: var(--fill-color);\n",
              "    }\n",
              "    20% {\n",
              "      border-color: transparent;\n",
              "      border-left-color: var(--fill-color);\n",
              "      border-top-color: var(--fill-color);\n",
              "    }\n",
              "    30% {\n",
              "      border-color: transparent;\n",
              "      border-left-color: var(--fill-color);\n",
              "      border-top-color: var(--fill-color);\n",
              "      border-right-color: var(--fill-color);\n",
              "    }\n",
              "    40% {\n",
              "      border-color: transparent;\n",
              "      border-right-color: var(--fill-color);\n",
              "      border-top-color: var(--fill-color);\n",
              "    }\n",
              "    60% {\n",
              "      border-color: transparent;\n",
              "      border-right-color: var(--fill-color);\n",
              "    }\n",
              "    80% {\n",
              "      border-color: transparent;\n",
              "      border-right-color: var(--fill-color);\n",
              "      border-bottom-color: var(--fill-color);\n",
              "    }\n",
              "    90% {\n",
              "      border-color: transparent;\n",
              "      border-bottom-color: var(--fill-color);\n",
              "    }\n",
              "  }\n",
              "</style>\n",
              "\n",
              "  <script>\n",
              "    async function quickchart(key) {\n",
              "      const quickchartButtonEl =\n",
              "        document.querySelector('#' + key + ' button');\n",
              "      quickchartButtonEl.disabled = true;  // To prevent multiple clicks.\n",
              "      quickchartButtonEl.classList.add('colab-df-spinner');\n",
              "      try {\n",
              "        const charts = await google.colab.kernel.invokeFunction(\n",
              "            'suggestCharts', [key], {});\n",
              "      } catch (error) {\n",
              "        console.error('Error during call to suggestCharts:', error);\n",
              "      }\n",
              "      quickchartButtonEl.classList.remove('colab-df-spinner');\n",
              "      quickchartButtonEl.classList.add('colab-df-quickchart-complete');\n",
              "    }\n",
              "    (() => {\n",
              "      let quickchartButtonEl =\n",
              "        document.querySelector('#df-4d0ec4b1-4af0-451a-89e0-7981f0330a66 button');\n",
              "      quickchartButtonEl.style.display =\n",
              "        google.colab.kernel.accessAllowed ? 'block' : 'none';\n",
              "    })();\n",
              "  </script>\n",
              "</div>\n",
              "    </div>\n",
              "  </div>\n"
            ]
          },
          "metadata": {},
          "execution_count": 13
        }
      ]
    },
    {
      "cell_type": "code",
      "source": [
        "print(bikedata.describe())"
      ],
      "metadata": {
        "colab": {
          "base_uri": "https://localhost:8080/"
        },
        "id": "ektO6bdofsOO",
        "outputId": "20713e6e-c852-469f-d928-a3975672a5a2"
      },
      "execution_count": null,
      "outputs": [
        {
          "output_type": "stream",
          "name": "stdout",
          "text": [
            "          start_lat     start_lng       end_lat       end_lng\n",
            "count  5.719877e+06  5.719877e+06  5.712887e+06  5.712887e+06\n",
            "mean   4.190288e+01 -8.764704e+01  4.190322e+01 -8.764720e+01\n",
            "std    4.505556e-02  2.733412e-02  5.444371e-02  6.919621e-02\n",
            "min    4.163000e+01 -8.794000e+01  0.000000e+00 -8.816000e+01\n",
            "25%    4.188096e+01 -8.766000e+01  4.188103e+01 -8.766027e+01\n",
            "50%    4.189902e+01 -8.764403e+01  4.190000e+01 -8.764410e+01\n",
            "75%    4.193000e+01 -8.762991e+01  4.193000e+01 -8.763000e+01\n",
            "max    4.207000e+01 -8.746000e+01  4.218000e+01  0.000000e+00\n"
          ]
        }
      ]
    },
    {
      "cell_type": "code",
      "source": [
        "print(bikedata.nunique())"
      ],
      "metadata": {
        "colab": {
          "base_uri": "https://localhost:8080/"
        },
        "id": "Qq00h5Ahf9zs",
        "outputId": "2d1bdd39-e092-4b0d-eef3-7d1bcb5d3012"
      },
      "execution_count": null,
      "outputs": [
        {
          "output_type": "stream",
          "name": "stdout",
          "text": [
            "ride_id               5719877\n",
            "rideable_type               3\n",
            "started_at            4823909\n",
            "ended_at              4835702\n",
            "start_station_name       1592\n",
            "start_station_id         1516\n",
            "end_station_name         1597\n",
            "end_station_id           1520\n",
            "start_lat              789702\n",
            "start_lng              748738\n",
            "end_lat                 13884\n",
            "end_lng                 14002\n",
            "member_casual               2\n",
            "dtype: int64\n"
          ]
        }
      ]
    },
    {
      "cell_type": "code",
      "source": [
        "# Number of null values\n",
        "\n",
        "print(bikedata.isnull().sum())"
      ],
      "metadata": {
        "colab": {
          "base_uri": "https://localhost:8080/"
        },
        "id": "tSLFhiVEgRRX",
        "outputId": "4fb98251-c5db-4359-83d2-cb3ea42f483b"
      },
      "execution_count": null,
      "outputs": [
        {
          "output_type": "stream",
          "name": "stdout",
          "text": [
            "ride_id                    0\n",
            "rideable_type              0\n",
            "started_at                 0\n",
            "ended_at                   0\n",
            "start_station_name    875716\n",
            "start_station_id      875848\n",
            "end_station_name      929202\n",
            "end_station_id        929343\n",
            "start_lat                  0\n",
            "start_lng                  0\n",
            "end_lat                 6990\n",
            "end_lng                 6990\n",
            "member_casual              0\n",
            "dtype: int64\n"
          ]
        }
      ]
    },
    {
      "cell_type": "code",
      "source": [
        "# Adding the date, month, day and year columns\n",
        "\n",
        "bikedata['date'] = pd.to_datetime(bikedata['started_at'])  # Convert to datetime if not already\n",
        "bikedata['month'] = bikedata['date'].dt.strftime(\"%m\")\n",
        "bikedata['day'] = bikedata['date'].dt.strftime(\"%d\")\n",
        "bikedata['year'] = bikedata['date'].dt.strftime(\"%Y\")\n",
        "bikedata['day_of_week'] = bikedata['date'].dt.strftime(\"%A\")\n",
        "\n",
        "bikedata.head()"
      ],
      "metadata": {
        "colab": {
          "base_uri": "https://localhost:8080/",
          "height": 399
        },
        "id": "EPqsEcJGhHVs",
        "outputId": "d7c55dd6-9583-4dee-de65-e9f14ed706ea"
      },
      "execution_count": null,
      "outputs": [
        {
          "output_type": "execute_result",
          "data": {
            "text/plain": [
              "            ride_id  rideable_type           started_at             ended_at  \\\n",
              "0  F96D5A74A3E41399  electric_bike  2023-01-21 20:05:42  2023-01-21 20:16:33   \n",
              "1  13CB7EB698CEDB88   classic_bike  2023-01-10 15:37:36  2023-01-10 15:46:05   \n",
              "2  BD88A2E670661CE5  electric_bike  2023-01-02 07:51:57  2023-01-02 08:05:11   \n",
              "3  C90792D034FED968   classic_bike  2023-01-22 10:52:58  2023-01-22 11:01:44   \n",
              "4  3397017529188E8A   classic_bike  2023-01-12 13:58:01  2023-01-12 14:13:20   \n",
              "\n",
              "            start_station_name start_station_id  \\\n",
              "0  Lincoln Ave & Fullerton Ave     TA1309000058   \n",
              "1        Kimbark Ave & 53rd St     TA1309000037   \n",
              "2       Western Ave & Lunt Ave           RP-005   \n",
              "3        Kimbark Ave & 53rd St     TA1309000037   \n",
              "4        Kimbark Ave & 53rd St     TA1309000037   \n",
              "\n",
              "                 end_station_name end_station_id  start_lat  start_lng  \\\n",
              "0       Hampden Ct & Diversey Ave       202480.0  41.924074 -87.646278   \n",
              "1         Greenwood Ave & 47th St   TA1308000002  41.799568 -87.594747   \n",
              "2  Valli Produce - Evanston Plaza            599  42.008571 -87.690483   \n",
              "3         Greenwood Ave & 47th St   TA1308000002  41.799568 -87.594747   \n",
              "4         Greenwood Ave & 47th St   TA1308000002  41.799568 -87.594747   \n",
              "\n",
              "     end_lat    end_lng member_casual                date month day  year  \\\n",
              "0  41.930000 -87.640000        member 2023-01-21 20:05:42    01  21  2023   \n",
              "1  41.809835 -87.599383        member 2023-01-10 15:37:36    01  10  2023   \n",
              "2  42.039742 -87.699413        casual 2023-01-02 07:51:57    01  02  2023   \n",
              "3  41.809835 -87.599383        member 2023-01-22 10:52:58    01  22  2023   \n",
              "4  41.809835 -87.599383        member 2023-01-12 13:58:01    01  12  2023   \n",
              "\n",
              "  day_of_week  \n",
              "0    Saturday  \n",
              "1     Tuesday  \n",
              "2      Monday  \n",
              "3      Sunday  \n",
              "4    Thursday  "
            ],
            "text/html": [
              "\n",
              "  <div id=\"df-70dcc40c-d827-4abe-88b0-e16eb0571095\" class=\"colab-df-container\">\n",
              "    <div>\n",
              "<style scoped>\n",
              "    .dataframe tbody tr th:only-of-type {\n",
              "        vertical-align: middle;\n",
              "    }\n",
              "\n",
              "    .dataframe tbody tr th {\n",
              "        vertical-align: top;\n",
              "    }\n",
              "\n",
              "    .dataframe thead th {\n",
              "        text-align: right;\n",
              "    }\n",
              "</style>\n",
              "<table border=\"1\" class=\"dataframe\">\n",
              "  <thead>\n",
              "    <tr style=\"text-align: right;\">\n",
              "      <th></th>\n",
              "      <th>ride_id</th>\n",
              "      <th>rideable_type</th>\n",
              "      <th>started_at</th>\n",
              "      <th>ended_at</th>\n",
              "      <th>start_station_name</th>\n",
              "      <th>start_station_id</th>\n",
              "      <th>end_station_name</th>\n",
              "      <th>end_station_id</th>\n",
              "      <th>start_lat</th>\n",
              "      <th>start_lng</th>\n",
              "      <th>end_lat</th>\n",
              "      <th>end_lng</th>\n",
              "      <th>member_casual</th>\n",
              "      <th>date</th>\n",
              "      <th>month</th>\n",
              "      <th>day</th>\n",
              "      <th>year</th>\n",
              "      <th>day_of_week</th>\n",
              "    </tr>\n",
              "  </thead>\n",
              "  <tbody>\n",
              "    <tr>\n",
              "      <th>0</th>\n",
              "      <td>F96D5A74A3E41399</td>\n",
              "      <td>electric_bike</td>\n",
              "      <td>2023-01-21 20:05:42</td>\n",
              "      <td>2023-01-21 20:16:33</td>\n",
              "      <td>Lincoln Ave &amp; Fullerton Ave</td>\n",
              "      <td>TA1309000058</td>\n",
              "      <td>Hampden Ct &amp; Diversey Ave</td>\n",
              "      <td>202480.0</td>\n",
              "      <td>41.924074</td>\n",
              "      <td>-87.646278</td>\n",
              "      <td>41.930000</td>\n",
              "      <td>-87.640000</td>\n",
              "      <td>member</td>\n",
              "      <td>2023-01-21 20:05:42</td>\n",
              "      <td>01</td>\n",
              "      <td>21</td>\n",
              "      <td>2023</td>\n",
              "      <td>Saturday</td>\n",
              "    </tr>\n",
              "    <tr>\n",
              "      <th>1</th>\n",
              "      <td>13CB7EB698CEDB88</td>\n",
              "      <td>classic_bike</td>\n",
              "      <td>2023-01-10 15:37:36</td>\n",
              "      <td>2023-01-10 15:46:05</td>\n",
              "      <td>Kimbark Ave &amp; 53rd St</td>\n",
              "      <td>TA1309000037</td>\n",
              "      <td>Greenwood Ave &amp; 47th St</td>\n",
              "      <td>TA1308000002</td>\n",
              "      <td>41.799568</td>\n",
              "      <td>-87.594747</td>\n",
              "      <td>41.809835</td>\n",
              "      <td>-87.599383</td>\n",
              "      <td>member</td>\n",
              "      <td>2023-01-10 15:37:36</td>\n",
              "      <td>01</td>\n",
              "      <td>10</td>\n",
              "      <td>2023</td>\n",
              "      <td>Tuesday</td>\n",
              "    </tr>\n",
              "    <tr>\n",
              "      <th>2</th>\n",
              "      <td>BD88A2E670661CE5</td>\n",
              "      <td>electric_bike</td>\n",
              "      <td>2023-01-02 07:51:57</td>\n",
              "      <td>2023-01-02 08:05:11</td>\n",
              "      <td>Western Ave &amp; Lunt Ave</td>\n",
              "      <td>RP-005</td>\n",
              "      <td>Valli Produce - Evanston Plaza</td>\n",
              "      <td>599</td>\n",
              "      <td>42.008571</td>\n",
              "      <td>-87.690483</td>\n",
              "      <td>42.039742</td>\n",
              "      <td>-87.699413</td>\n",
              "      <td>casual</td>\n",
              "      <td>2023-01-02 07:51:57</td>\n",
              "      <td>01</td>\n",
              "      <td>02</td>\n",
              "      <td>2023</td>\n",
              "      <td>Monday</td>\n",
              "    </tr>\n",
              "    <tr>\n",
              "      <th>3</th>\n",
              "      <td>C90792D034FED968</td>\n",
              "      <td>classic_bike</td>\n",
              "      <td>2023-01-22 10:52:58</td>\n",
              "      <td>2023-01-22 11:01:44</td>\n",
              "      <td>Kimbark Ave &amp; 53rd St</td>\n",
              "      <td>TA1309000037</td>\n",
              "      <td>Greenwood Ave &amp; 47th St</td>\n",
              "      <td>TA1308000002</td>\n",
              "      <td>41.799568</td>\n",
              "      <td>-87.594747</td>\n",
              "      <td>41.809835</td>\n",
              "      <td>-87.599383</td>\n",
              "      <td>member</td>\n",
              "      <td>2023-01-22 10:52:58</td>\n",
              "      <td>01</td>\n",
              "      <td>22</td>\n",
              "      <td>2023</td>\n",
              "      <td>Sunday</td>\n",
              "    </tr>\n",
              "    <tr>\n",
              "      <th>4</th>\n",
              "      <td>3397017529188E8A</td>\n",
              "      <td>classic_bike</td>\n",
              "      <td>2023-01-12 13:58:01</td>\n",
              "      <td>2023-01-12 14:13:20</td>\n",
              "      <td>Kimbark Ave &amp; 53rd St</td>\n",
              "      <td>TA1309000037</td>\n",
              "      <td>Greenwood Ave &amp; 47th St</td>\n",
              "      <td>TA1308000002</td>\n",
              "      <td>41.799568</td>\n",
              "      <td>-87.594747</td>\n",
              "      <td>41.809835</td>\n",
              "      <td>-87.599383</td>\n",
              "      <td>member</td>\n",
              "      <td>2023-01-12 13:58:01</td>\n",
              "      <td>01</td>\n",
              "      <td>12</td>\n",
              "      <td>2023</td>\n",
              "      <td>Thursday</td>\n",
              "    </tr>\n",
              "  </tbody>\n",
              "</table>\n",
              "</div>\n",
              "    <div class=\"colab-df-buttons\">\n",
              "\n",
              "  <div class=\"colab-df-container\">\n",
              "    <button class=\"colab-df-convert\" onclick=\"convertToInteractive('df-70dcc40c-d827-4abe-88b0-e16eb0571095')\"\n",
              "            title=\"Convert this dataframe to an interactive table.\"\n",
              "            style=\"display:none;\">\n",
              "\n",
              "  <svg xmlns=\"http://www.w3.org/2000/svg\" height=\"24px\" viewBox=\"0 -960 960 960\">\n",
              "    <path d=\"M120-120v-720h720v720H120Zm60-500h600v-160H180v160Zm220 220h160v-160H400v160Zm0 220h160v-160H400v160ZM180-400h160v-160H180v160Zm440 0h160v-160H620v160ZM180-180h160v-160H180v160Zm440 0h160v-160H620v160Z\"/>\n",
              "  </svg>\n",
              "    </button>\n",
              "\n",
              "  <style>\n",
              "    .colab-df-container {\n",
              "      display:flex;\n",
              "      gap: 12px;\n",
              "    }\n",
              "\n",
              "    .colab-df-convert {\n",
              "      background-color: #E8F0FE;\n",
              "      border: none;\n",
              "      border-radius: 50%;\n",
              "      cursor: pointer;\n",
              "      display: none;\n",
              "      fill: #1967D2;\n",
              "      height: 32px;\n",
              "      padding: 0 0 0 0;\n",
              "      width: 32px;\n",
              "    }\n",
              "\n",
              "    .colab-df-convert:hover {\n",
              "      background-color: #E2EBFA;\n",
              "      box-shadow: 0px 1px 2px rgba(60, 64, 67, 0.3), 0px 1px 3px 1px rgba(60, 64, 67, 0.15);\n",
              "      fill: #174EA6;\n",
              "    }\n",
              "\n",
              "    .colab-df-buttons div {\n",
              "      margin-bottom: 4px;\n",
              "    }\n",
              "\n",
              "    [theme=dark] .colab-df-convert {\n",
              "      background-color: #3B4455;\n",
              "      fill: #D2E3FC;\n",
              "    }\n",
              "\n",
              "    [theme=dark] .colab-df-convert:hover {\n",
              "      background-color: #434B5C;\n",
              "      box-shadow: 0px 1px 3px 1px rgba(0, 0, 0, 0.15);\n",
              "      filter: drop-shadow(0px 1px 2px rgba(0, 0, 0, 0.3));\n",
              "      fill: #FFFFFF;\n",
              "    }\n",
              "  </style>\n",
              "\n",
              "    <script>\n",
              "      const buttonEl =\n",
              "        document.querySelector('#df-70dcc40c-d827-4abe-88b0-e16eb0571095 button.colab-df-convert');\n",
              "      buttonEl.style.display =\n",
              "        google.colab.kernel.accessAllowed ? 'block' : 'none';\n",
              "\n",
              "      async function convertToInteractive(key) {\n",
              "        const element = document.querySelector('#df-70dcc40c-d827-4abe-88b0-e16eb0571095');\n",
              "        const dataTable =\n",
              "          await google.colab.kernel.invokeFunction('convertToInteractive',\n",
              "                                                    [key], {});\n",
              "        if (!dataTable) return;\n",
              "\n",
              "        const docLinkHtml = 'Like what you see? Visit the ' +\n",
              "          '<a target=\"_blank\" href=https://colab.research.google.com/notebooks/data_table.ipynb>data table notebook</a>'\n",
              "          + ' to learn more about interactive tables.';\n",
              "        element.innerHTML = '';\n",
              "        dataTable['output_type'] = 'display_data';\n",
              "        await google.colab.output.renderOutput(dataTable, element);\n",
              "        const docLink = document.createElement('div');\n",
              "        docLink.innerHTML = docLinkHtml;\n",
              "        element.appendChild(docLink);\n",
              "      }\n",
              "    </script>\n",
              "  </div>\n",
              "\n",
              "\n",
              "<div id=\"df-71994da6-cf67-4285-b10f-51ec92e813ba\">\n",
              "  <button class=\"colab-df-quickchart\" onclick=\"quickchart('df-71994da6-cf67-4285-b10f-51ec92e813ba')\"\n",
              "            title=\"Suggest charts\"\n",
              "            style=\"display:none;\">\n",
              "\n",
              "<svg xmlns=\"http://www.w3.org/2000/svg\" height=\"24px\"viewBox=\"0 0 24 24\"\n",
              "     width=\"24px\">\n",
              "    <g>\n",
              "        <path d=\"M19 3H5c-1.1 0-2 .9-2 2v14c0 1.1.9 2 2 2h14c1.1 0 2-.9 2-2V5c0-1.1-.9-2-2-2zM9 17H7v-7h2v7zm4 0h-2V7h2v10zm4 0h-2v-4h2v4z\"/>\n",
              "    </g>\n",
              "</svg>\n",
              "  </button>\n",
              "\n",
              "<style>\n",
              "  .colab-df-quickchart {\n",
              "      --bg-color: #E8F0FE;\n",
              "      --fill-color: #1967D2;\n",
              "      --hover-bg-color: #E2EBFA;\n",
              "      --hover-fill-color: #174EA6;\n",
              "      --disabled-fill-color: #AAA;\n",
              "      --disabled-bg-color: #DDD;\n",
              "  }\n",
              "\n",
              "  [theme=dark] .colab-df-quickchart {\n",
              "      --bg-color: #3B4455;\n",
              "      --fill-color: #D2E3FC;\n",
              "      --hover-bg-color: #434B5C;\n",
              "      --hover-fill-color: #FFFFFF;\n",
              "      --disabled-bg-color: #3B4455;\n",
              "      --disabled-fill-color: #666;\n",
              "  }\n",
              "\n",
              "  .colab-df-quickchart {\n",
              "    background-color: var(--bg-color);\n",
              "    border: none;\n",
              "    border-radius: 50%;\n",
              "    cursor: pointer;\n",
              "    display: none;\n",
              "    fill: var(--fill-color);\n",
              "    height: 32px;\n",
              "    padding: 0;\n",
              "    width: 32px;\n",
              "  }\n",
              "\n",
              "  .colab-df-quickchart:hover {\n",
              "    background-color: var(--hover-bg-color);\n",
              "    box-shadow: 0 1px 2px rgba(60, 64, 67, 0.3), 0 1px 3px 1px rgba(60, 64, 67, 0.15);\n",
              "    fill: var(--button-hover-fill-color);\n",
              "  }\n",
              "\n",
              "  .colab-df-quickchart-complete:disabled,\n",
              "  .colab-df-quickchart-complete:disabled:hover {\n",
              "    background-color: var(--disabled-bg-color);\n",
              "    fill: var(--disabled-fill-color);\n",
              "    box-shadow: none;\n",
              "  }\n",
              "\n",
              "  .colab-df-spinner {\n",
              "    border: 2px solid var(--fill-color);\n",
              "    border-color: transparent;\n",
              "    border-bottom-color: var(--fill-color);\n",
              "    animation:\n",
              "      spin 1s steps(1) infinite;\n",
              "  }\n",
              "\n",
              "  @keyframes spin {\n",
              "    0% {\n",
              "      border-color: transparent;\n",
              "      border-bottom-color: var(--fill-color);\n",
              "      border-left-color: var(--fill-color);\n",
              "    }\n",
              "    20% {\n",
              "      border-color: transparent;\n",
              "      border-left-color: var(--fill-color);\n",
              "      border-top-color: var(--fill-color);\n",
              "    }\n",
              "    30% {\n",
              "      border-color: transparent;\n",
              "      border-left-color: var(--fill-color);\n",
              "      border-top-color: var(--fill-color);\n",
              "      border-right-color: var(--fill-color);\n",
              "    }\n",
              "    40% {\n",
              "      border-color: transparent;\n",
              "      border-right-color: var(--fill-color);\n",
              "      border-top-color: var(--fill-color);\n",
              "    }\n",
              "    60% {\n",
              "      border-color: transparent;\n",
              "      border-right-color: var(--fill-color);\n",
              "    }\n",
              "    80% {\n",
              "      border-color: transparent;\n",
              "      border-right-color: var(--fill-color);\n",
              "      border-bottom-color: var(--fill-color);\n",
              "    }\n",
              "    90% {\n",
              "      border-color: transparent;\n",
              "      border-bottom-color: var(--fill-color);\n",
              "    }\n",
              "  }\n",
              "</style>\n",
              "\n",
              "  <script>\n",
              "    async function quickchart(key) {\n",
              "      const quickchartButtonEl =\n",
              "        document.querySelector('#' + key + ' button');\n",
              "      quickchartButtonEl.disabled = true;  // To prevent multiple clicks.\n",
              "      quickchartButtonEl.classList.add('colab-df-spinner');\n",
              "      try {\n",
              "        const charts = await google.colab.kernel.invokeFunction(\n",
              "            'suggestCharts', [key], {});\n",
              "      } catch (error) {\n",
              "        console.error('Error during call to suggestCharts:', error);\n",
              "      }\n",
              "      quickchartButtonEl.classList.remove('colab-df-spinner');\n",
              "      quickchartButtonEl.classList.add('colab-df-quickchart-complete');\n",
              "    }\n",
              "    (() => {\n",
              "      let quickchartButtonEl =\n",
              "        document.querySelector('#df-71994da6-cf67-4285-b10f-51ec92e813ba button');\n",
              "      quickchartButtonEl.style.display =\n",
              "        google.colab.kernel.accessAllowed ? 'block' : 'none';\n",
              "    })();\n",
              "  </script>\n",
              "</div>\n",
              "    </div>\n",
              "  </div>\n"
            ]
          },
          "metadata": {},
          "execution_count": 19
        }
      ]
    },
    {
      "cell_type": "code",
      "source": [
        "# Now let's calculate each user's cycling time\n",
        "# pd.to_datetime() is used to convert the 'ended_at' and 'started_at' columns to pandas datetime objects if they are not already.\n",
        "# (all_trips['ended_at'] - all_trips['started_at']) calculates the time difference between the two columns.\n",
        "# .dt.total_seconds() converts the time difference into seconds.\n",
        "\n",
        "bikedata['ended_at'] = pd.to_datetime(bikedata['ended_at'])  # Transform to date time\n",
        "bikedata['started_at'] = pd.to_datetime(bikedata['started_at'])  # Transform to date time\n",
        "\n",
        "bikedata['ride_length'] = (bikedata['ended_at'] - bikedata['started_at']).dt.total_seconds()\n",
        "#bikedata['ride_length'] = pd.to_datetime(bikedata['ride_length'], unit='s').dt.strftime(\"%H:%M:%S\") # Transform to hour, minutes, seconds\n",
        "\n",
        "bikedata.head()"
      ],
      "metadata": {
        "colab": {
          "base_uri": "https://localhost:8080/",
          "height": 399
        },
        "id": "2dyKY6_djvFJ",
        "outputId": "5be72e6d-aaa2-4e8f-a859-2aa0f35b3397"
      },
      "execution_count": null,
      "outputs": [
        {
          "output_type": "execute_result",
          "data": {
            "text/plain": [
              "            ride_id  rideable_type          started_at            ended_at  \\\n",
              "0  F96D5A74A3E41399  electric_bike 2023-01-21 20:05:42 2023-01-21 20:16:33   \n",
              "1  13CB7EB698CEDB88   classic_bike 2023-01-10 15:37:36 2023-01-10 15:46:05   \n",
              "2  BD88A2E670661CE5  electric_bike 2023-01-02 07:51:57 2023-01-02 08:05:11   \n",
              "3  C90792D034FED968   classic_bike 2023-01-22 10:52:58 2023-01-22 11:01:44   \n",
              "4  3397017529188E8A   classic_bike 2023-01-12 13:58:01 2023-01-12 14:13:20   \n",
              "\n",
              "            start_station_name start_station_id  \\\n",
              "0  Lincoln Ave & Fullerton Ave     TA1309000058   \n",
              "1        Kimbark Ave & 53rd St     TA1309000037   \n",
              "2       Western Ave & Lunt Ave           RP-005   \n",
              "3        Kimbark Ave & 53rd St     TA1309000037   \n",
              "4        Kimbark Ave & 53rd St     TA1309000037   \n",
              "\n",
              "                 end_station_name end_station_id  start_lat  start_lng  \\\n",
              "0       Hampden Ct & Diversey Ave       202480.0  41.924074 -87.646278   \n",
              "1         Greenwood Ave & 47th St   TA1308000002  41.799568 -87.594747   \n",
              "2  Valli Produce - Evanston Plaza            599  42.008571 -87.690483   \n",
              "3         Greenwood Ave & 47th St   TA1308000002  41.799568 -87.594747   \n",
              "4         Greenwood Ave & 47th St   TA1308000002  41.799568 -87.594747   \n",
              "\n",
              "     end_lat    end_lng member_casual                date month day  year  \\\n",
              "0  41.930000 -87.640000        member 2023-01-21 20:05:42    01  21  2023   \n",
              "1  41.809835 -87.599383        member 2023-01-10 15:37:36    01  10  2023   \n",
              "2  42.039742 -87.699413        casual 2023-01-02 07:51:57    01  02  2023   \n",
              "3  41.809835 -87.599383        member 2023-01-22 10:52:58    01  22  2023   \n",
              "4  41.809835 -87.599383        member 2023-01-12 13:58:01    01  12  2023   \n",
              "\n",
              "  day_of_week  ride_length  \n",
              "0    Saturday        651.0  \n",
              "1     Tuesday        509.0  \n",
              "2      Monday        794.0  \n",
              "3      Sunday        526.0  \n",
              "4    Thursday        919.0  "
            ],
            "text/html": [
              "\n",
              "  <div id=\"df-8aa6bfc4-9d38-4ed2-b60c-dc1a5c47a38a\" class=\"colab-df-container\">\n",
              "    <div>\n",
              "<style scoped>\n",
              "    .dataframe tbody tr th:only-of-type {\n",
              "        vertical-align: middle;\n",
              "    }\n",
              "\n",
              "    .dataframe tbody tr th {\n",
              "        vertical-align: top;\n",
              "    }\n",
              "\n",
              "    .dataframe thead th {\n",
              "        text-align: right;\n",
              "    }\n",
              "</style>\n",
              "<table border=\"1\" class=\"dataframe\">\n",
              "  <thead>\n",
              "    <tr style=\"text-align: right;\">\n",
              "      <th></th>\n",
              "      <th>ride_id</th>\n",
              "      <th>rideable_type</th>\n",
              "      <th>started_at</th>\n",
              "      <th>ended_at</th>\n",
              "      <th>start_station_name</th>\n",
              "      <th>start_station_id</th>\n",
              "      <th>end_station_name</th>\n",
              "      <th>end_station_id</th>\n",
              "      <th>start_lat</th>\n",
              "      <th>start_lng</th>\n",
              "      <th>end_lat</th>\n",
              "      <th>end_lng</th>\n",
              "      <th>member_casual</th>\n",
              "      <th>date</th>\n",
              "      <th>month</th>\n",
              "      <th>day</th>\n",
              "      <th>year</th>\n",
              "      <th>day_of_week</th>\n",
              "      <th>ride_length</th>\n",
              "    </tr>\n",
              "  </thead>\n",
              "  <tbody>\n",
              "    <tr>\n",
              "      <th>0</th>\n",
              "      <td>F96D5A74A3E41399</td>\n",
              "      <td>electric_bike</td>\n",
              "      <td>2023-01-21 20:05:42</td>\n",
              "      <td>2023-01-21 20:16:33</td>\n",
              "      <td>Lincoln Ave &amp; Fullerton Ave</td>\n",
              "      <td>TA1309000058</td>\n",
              "      <td>Hampden Ct &amp; Diversey Ave</td>\n",
              "      <td>202480.0</td>\n",
              "      <td>41.924074</td>\n",
              "      <td>-87.646278</td>\n",
              "      <td>41.930000</td>\n",
              "      <td>-87.640000</td>\n",
              "      <td>member</td>\n",
              "      <td>2023-01-21 20:05:42</td>\n",
              "      <td>01</td>\n",
              "      <td>21</td>\n",
              "      <td>2023</td>\n",
              "      <td>Saturday</td>\n",
              "      <td>651.0</td>\n",
              "    </tr>\n",
              "    <tr>\n",
              "      <th>1</th>\n",
              "      <td>13CB7EB698CEDB88</td>\n",
              "      <td>classic_bike</td>\n",
              "      <td>2023-01-10 15:37:36</td>\n",
              "      <td>2023-01-10 15:46:05</td>\n",
              "      <td>Kimbark Ave &amp; 53rd St</td>\n",
              "      <td>TA1309000037</td>\n",
              "      <td>Greenwood Ave &amp; 47th St</td>\n",
              "      <td>TA1308000002</td>\n",
              "      <td>41.799568</td>\n",
              "      <td>-87.594747</td>\n",
              "      <td>41.809835</td>\n",
              "      <td>-87.599383</td>\n",
              "      <td>member</td>\n",
              "      <td>2023-01-10 15:37:36</td>\n",
              "      <td>01</td>\n",
              "      <td>10</td>\n",
              "      <td>2023</td>\n",
              "      <td>Tuesday</td>\n",
              "      <td>509.0</td>\n",
              "    </tr>\n",
              "    <tr>\n",
              "      <th>2</th>\n",
              "      <td>BD88A2E670661CE5</td>\n",
              "      <td>electric_bike</td>\n",
              "      <td>2023-01-02 07:51:57</td>\n",
              "      <td>2023-01-02 08:05:11</td>\n",
              "      <td>Western Ave &amp; Lunt Ave</td>\n",
              "      <td>RP-005</td>\n",
              "      <td>Valli Produce - Evanston Plaza</td>\n",
              "      <td>599</td>\n",
              "      <td>42.008571</td>\n",
              "      <td>-87.690483</td>\n",
              "      <td>42.039742</td>\n",
              "      <td>-87.699413</td>\n",
              "      <td>casual</td>\n",
              "      <td>2023-01-02 07:51:57</td>\n",
              "      <td>01</td>\n",
              "      <td>02</td>\n",
              "      <td>2023</td>\n",
              "      <td>Monday</td>\n",
              "      <td>794.0</td>\n",
              "    </tr>\n",
              "    <tr>\n",
              "      <th>3</th>\n",
              "      <td>C90792D034FED968</td>\n",
              "      <td>classic_bike</td>\n",
              "      <td>2023-01-22 10:52:58</td>\n",
              "      <td>2023-01-22 11:01:44</td>\n",
              "      <td>Kimbark Ave &amp; 53rd St</td>\n",
              "      <td>TA1309000037</td>\n",
              "      <td>Greenwood Ave &amp; 47th St</td>\n",
              "      <td>TA1308000002</td>\n",
              "      <td>41.799568</td>\n",
              "      <td>-87.594747</td>\n",
              "      <td>41.809835</td>\n",
              "      <td>-87.599383</td>\n",
              "      <td>member</td>\n",
              "      <td>2023-01-22 10:52:58</td>\n",
              "      <td>01</td>\n",
              "      <td>22</td>\n",
              "      <td>2023</td>\n",
              "      <td>Sunday</td>\n",
              "      <td>526.0</td>\n",
              "    </tr>\n",
              "    <tr>\n",
              "      <th>4</th>\n",
              "      <td>3397017529188E8A</td>\n",
              "      <td>classic_bike</td>\n",
              "      <td>2023-01-12 13:58:01</td>\n",
              "      <td>2023-01-12 14:13:20</td>\n",
              "      <td>Kimbark Ave &amp; 53rd St</td>\n",
              "      <td>TA1309000037</td>\n",
              "      <td>Greenwood Ave &amp; 47th St</td>\n",
              "      <td>TA1308000002</td>\n",
              "      <td>41.799568</td>\n",
              "      <td>-87.594747</td>\n",
              "      <td>41.809835</td>\n",
              "      <td>-87.599383</td>\n",
              "      <td>member</td>\n",
              "      <td>2023-01-12 13:58:01</td>\n",
              "      <td>01</td>\n",
              "      <td>12</td>\n",
              "      <td>2023</td>\n",
              "      <td>Thursday</td>\n",
              "      <td>919.0</td>\n",
              "    </tr>\n",
              "  </tbody>\n",
              "</table>\n",
              "</div>\n",
              "    <div class=\"colab-df-buttons\">\n",
              "\n",
              "  <div class=\"colab-df-container\">\n",
              "    <button class=\"colab-df-convert\" onclick=\"convertToInteractive('df-8aa6bfc4-9d38-4ed2-b60c-dc1a5c47a38a')\"\n",
              "            title=\"Convert this dataframe to an interactive table.\"\n",
              "            style=\"display:none;\">\n",
              "\n",
              "  <svg xmlns=\"http://www.w3.org/2000/svg\" height=\"24px\" viewBox=\"0 -960 960 960\">\n",
              "    <path d=\"M120-120v-720h720v720H120Zm60-500h600v-160H180v160Zm220 220h160v-160H400v160Zm0 220h160v-160H400v160ZM180-400h160v-160H180v160Zm440 0h160v-160H620v160ZM180-180h160v-160H180v160Zm440 0h160v-160H620v160Z\"/>\n",
              "  </svg>\n",
              "    </button>\n",
              "\n",
              "  <style>\n",
              "    .colab-df-container {\n",
              "      display:flex;\n",
              "      gap: 12px;\n",
              "    }\n",
              "\n",
              "    .colab-df-convert {\n",
              "      background-color: #E8F0FE;\n",
              "      border: none;\n",
              "      border-radius: 50%;\n",
              "      cursor: pointer;\n",
              "      display: none;\n",
              "      fill: #1967D2;\n",
              "      height: 32px;\n",
              "      padding: 0 0 0 0;\n",
              "      width: 32px;\n",
              "    }\n",
              "\n",
              "    .colab-df-convert:hover {\n",
              "      background-color: #E2EBFA;\n",
              "      box-shadow: 0px 1px 2px rgba(60, 64, 67, 0.3), 0px 1px 3px 1px rgba(60, 64, 67, 0.15);\n",
              "      fill: #174EA6;\n",
              "    }\n",
              "\n",
              "    .colab-df-buttons div {\n",
              "      margin-bottom: 4px;\n",
              "    }\n",
              "\n",
              "    [theme=dark] .colab-df-convert {\n",
              "      background-color: #3B4455;\n",
              "      fill: #D2E3FC;\n",
              "    }\n",
              "\n",
              "    [theme=dark] .colab-df-convert:hover {\n",
              "      background-color: #434B5C;\n",
              "      box-shadow: 0px 1px 3px 1px rgba(0, 0, 0, 0.15);\n",
              "      filter: drop-shadow(0px 1px 2px rgba(0, 0, 0, 0.3));\n",
              "      fill: #FFFFFF;\n",
              "    }\n",
              "  </style>\n",
              "\n",
              "    <script>\n",
              "      const buttonEl =\n",
              "        document.querySelector('#df-8aa6bfc4-9d38-4ed2-b60c-dc1a5c47a38a button.colab-df-convert');\n",
              "      buttonEl.style.display =\n",
              "        google.colab.kernel.accessAllowed ? 'block' : 'none';\n",
              "\n",
              "      async function convertToInteractive(key) {\n",
              "        const element = document.querySelector('#df-8aa6bfc4-9d38-4ed2-b60c-dc1a5c47a38a');\n",
              "        const dataTable =\n",
              "          await google.colab.kernel.invokeFunction('convertToInteractive',\n",
              "                                                    [key], {});\n",
              "        if (!dataTable) return;\n",
              "\n",
              "        const docLinkHtml = 'Like what you see? Visit the ' +\n",
              "          '<a target=\"_blank\" href=https://colab.research.google.com/notebooks/data_table.ipynb>data table notebook</a>'\n",
              "          + ' to learn more about interactive tables.';\n",
              "        element.innerHTML = '';\n",
              "        dataTable['output_type'] = 'display_data';\n",
              "        await google.colab.output.renderOutput(dataTable, element);\n",
              "        const docLink = document.createElement('div');\n",
              "        docLink.innerHTML = docLinkHtml;\n",
              "        element.appendChild(docLink);\n",
              "      }\n",
              "    </script>\n",
              "  </div>\n",
              "\n",
              "\n",
              "<div id=\"df-b9368e06-f9d7-4c46-a804-aae00f428f71\">\n",
              "  <button class=\"colab-df-quickchart\" onclick=\"quickchart('df-b9368e06-f9d7-4c46-a804-aae00f428f71')\"\n",
              "            title=\"Suggest charts\"\n",
              "            style=\"display:none;\">\n",
              "\n",
              "<svg xmlns=\"http://www.w3.org/2000/svg\" height=\"24px\"viewBox=\"0 0 24 24\"\n",
              "     width=\"24px\">\n",
              "    <g>\n",
              "        <path d=\"M19 3H5c-1.1 0-2 .9-2 2v14c0 1.1.9 2 2 2h14c1.1 0 2-.9 2-2V5c0-1.1-.9-2-2-2zM9 17H7v-7h2v7zm4 0h-2V7h2v10zm4 0h-2v-4h2v4z\"/>\n",
              "    </g>\n",
              "</svg>\n",
              "  </button>\n",
              "\n",
              "<style>\n",
              "  .colab-df-quickchart {\n",
              "      --bg-color: #E8F0FE;\n",
              "      --fill-color: #1967D2;\n",
              "      --hover-bg-color: #E2EBFA;\n",
              "      --hover-fill-color: #174EA6;\n",
              "      --disabled-fill-color: #AAA;\n",
              "      --disabled-bg-color: #DDD;\n",
              "  }\n",
              "\n",
              "  [theme=dark] .colab-df-quickchart {\n",
              "      --bg-color: #3B4455;\n",
              "      --fill-color: #D2E3FC;\n",
              "      --hover-bg-color: #434B5C;\n",
              "      --hover-fill-color: #FFFFFF;\n",
              "      --disabled-bg-color: #3B4455;\n",
              "      --disabled-fill-color: #666;\n",
              "  }\n",
              "\n",
              "  .colab-df-quickchart {\n",
              "    background-color: var(--bg-color);\n",
              "    border: none;\n",
              "    border-radius: 50%;\n",
              "    cursor: pointer;\n",
              "    display: none;\n",
              "    fill: var(--fill-color);\n",
              "    height: 32px;\n",
              "    padding: 0;\n",
              "    width: 32px;\n",
              "  }\n",
              "\n",
              "  .colab-df-quickchart:hover {\n",
              "    background-color: var(--hover-bg-color);\n",
              "    box-shadow: 0 1px 2px rgba(60, 64, 67, 0.3), 0 1px 3px 1px rgba(60, 64, 67, 0.15);\n",
              "    fill: var(--button-hover-fill-color);\n",
              "  }\n",
              "\n",
              "  .colab-df-quickchart-complete:disabled,\n",
              "  .colab-df-quickchart-complete:disabled:hover {\n",
              "    background-color: var(--disabled-bg-color);\n",
              "    fill: var(--disabled-fill-color);\n",
              "    box-shadow: none;\n",
              "  }\n",
              "\n",
              "  .colab-df-spinner {\n",
              "    border: 2px solid var(--fill-color);\n",
              "    border-color: transparent;\n",
              "    border-bottom-color: var(--fill-color);\n",
              "    animation:\n",
              "      spin 1s steps(1) infinite;\n",
              "  }\n",
              "\n",
              "  @keyframes spin {\n",
              "    0% {\n",
              "      border-color: transparent;\n",
              "      border-bottom-color: var(--fill-color);\n",
              "      border-left-color: var(--fill-color);\n",
              "    }\n",
              "    20% {\n",
              "      border-color: transparent;\n",
              "      border-left-color: var(--fill-color);\n",
              "      border-top-color: var(--fill-color);\n",
              "    }\n",
              "    30% {\n",
              "      border-color: transparent;\n",
              "      border-left-color: var(--fill-color);\n",
              "      border-top-color: var(--fill-color);\n",
              "      border-right-color: var(--fill-color);\n",
              "    }\n",
              "    40% {\n",
              "      border-color: transparent;\n",
              "      border-right-color: var(--fill-color);\n",
              "      border-top-color: var(--fill-color);\n",
              "    }\n",
              "    60% {\n",
              "      border-color: transparent;\n",
              "      border-right-color: var(--fill-color);\n",
              "    }\n",
              "    80% {\n",
              "      border-color: transparent;\n",
              "      border-right-color: var(--fill-color);\n",
              "      border-bottom-color: var(--fill-color);\n",
              "    }\n",
              "    90% {\n",
              "      border-color: transparent;\n",
              "      border-bottom-color: var(--fill-color);\n",
              "    }\n",
              "  }\n",
              "</style>\n",
              "\n",
              "  <script>\n",
              "    async function quickchart(key) {\n",
              "      const quickchartButtonEl =\n",
              "        document.querySelector('#' + key + ' button');\n",
              "      quickchartButtonEl.disabled = true;  // To prevent multiple clicks.\n",
              "      quickchartButtonEl.classList.add('colab-df-spinner');\n",
              "      try {\n",
              "        const charts = await google.colab.kernel.invokeFunction(\n",
              "            'suggestCharts', [key], {});\n",
              "      } catch (error) {\n",
              "        console.error('Error during call to suggestCharts:', error);\n",
              "      }\n",
              "      quickchartButtonEl.classList.remove('colab-df-spinner');\n",
              "      quickchartButtonEl.classList.add('colab-df-quickchart-complete');\n",
              "    }\n",
              "    (() => {\n",
              "      let quickchartButtonEl =\n",
              "        document.querySelector('#df-b9368e06-f9d7-4c46-a804-aae00f428f71 button');\n",
              "      quickchartButtonEl.style.display =\n",
              "        google.colab.kernel.accessAllowed ? 'block' : 'none';\n",
              "    })();\n",
              "  </script>\n",
              "</div>\n",
              "    </div>\n",
              "  </div>\n"
            ]
          },
          "metadata": {},
          "execution_count": 24
        }
      ]
    },
    {
      "cell_type": "code",
      "source": [
        "print(bikedata.info())"
      ],
      "metadata": {
        "colab": {
          "base_uri": "https://localhost:8080/"
        },
        "id": "GLf0f15dlMsW",
        "outputId": "5c056cdb-fba1-4d20-b1fb-d950b69bb78b"
      },
      "execution_count": null,
      "outputs": [
        {
          "output_type": "stream",
          "name": "stdout",
          "text": [
            "<class 'pandas.core.frame.DataFrame'>\n",
            "RangeIndex: 5719877 entries, 0 to 5719876\n",
            "Data columns (total 19 columns):\n",
            " #   Column              Dtype         \n",
            "---  ------              -----         \n",
            " 0   ride_id             object        \n",
            " 1   rideable_type       object        \n",
            " 2   started_at          datetime64[ns]\n",
            " 3   ended_at            datetime64[ns]\n",
            " 4   start_station_name  object        \n",
            " 5   start_station_id    object        \n",
            " 6   end_station_name    object        \n",
            " 7   end_station_id      object        \n",
            " 8   start_lat           float64       \n",
            " 9   start_lng           float64       \n",
            " 10  end_lat             float64       \n",
            " 11  end_lng             float64       \n",
            " 12  member_casual       object        \n",
            " 13  date                datetime64[ns]\n",
            " 14  month               object        \n",
            " 15  day                 object        \n",
            " 16  year                object        \n",
            " 17  day_of_week         object        \n",
            " 18  ride_length         float64       \n",
            "dtypes: datetime64[ns](3), float64(5), object(11)\n",
            "memory usage: 829.1+ MB\n",
            "None\n"
          ]
        }
      ]
    },
    {
      "cell_type": "code",
      "source": [
        "# Checking the database for null values\n",
        "# If there is at least one null value, .isnull().values.any() returns True; otherwise it will return False\n",
        "\n",
        "if bikedata.isnull().values.any():\n",
        "    print(\"There are null values in the DataFrame\")\n",
        "else:\n",
        "    print(\"There are no null values in the DataFrame\")"
      ],
      "metadata": {
        "id": "CCogi57RmRuG"
      },
      "execution_count": null,
      "outputs": []
    },
    {
      "cell_type": "code",
      "source": [
        "# As there are null values, we will remove them to facilitate analysis\n",
        "\n",
        "bikedata = bikedata.dropna()\n",
        "\n",
        "if bikedata.isnull().values.any():\n",
        "    print(\"There are null values in the DataFrame\")\n",
        "else:\n",
        "    print(\"There are no null values in the DataFrame\")"
      ],
      "metadata": {
        "id": "3zKECdkMnO4i"
      },
      "execution_count": null,
      "outputs": []
    },
    {
      "cell_type": "code",
      "source": [
        "print(bikedata.info())"
      ],
      "metadata": {
        "colab": {
          "base_uri": "https://localhost:8080/"
        },
        "id": "wzmWHePUnf9O",
        "outputId": "9f8ff4d4-b1cc-464a-9b6b-8df254a5e1c7"
      },
      "execution_count": null,
      "outputs": [
        {
          "output_type": "stream",
          "name": "stdout",
          "text": [
            "<class 'pandas.core.frame.DataFrame'>\n",
            "Int64Index: 4331707 entries, 0 to 5719876\n",
            "Data columns (total 19 columns):\n",
            " #   Column              Dtype         \n",
            "---  ------              -----         \n",
            " 0   ride_id             object        \n",
            " 1   rideable_type       object        \n",
            " 2   started_at          datetime64[ns]\n",
            " 3   ended_at            datetime64[ns]\n",
            " 4   start_station_name  object        \n",
            " 5   start_station_id    object        \n",
            " 6   end_station_name    object        \n",
            " 7   end_station_id      object        \n",
            " 8   start_lat           float64       \n",
            " 9   start_lng           float64       \n",
            " 10  end_lat             float64       \n",
            " 11  end_lng             float64       \n",
            " 12  member_casual       object        \n",
            " 13  date                datetime64[ns]\n",
            " 14  month               object        \n",
            " 15  day                 object        \n",
            " 16  year                object        \n",
            " 17  day_of_week         object        \n",
            " 18  ride_length         float64       \n",
            "dtypes: datetime64[ns](3), float64(5), object(11)\n",
            "memory usage: 661.0+ MB\n",
            "None\n"
          ]
        }
      ]
    },
    {
      "cell_type": "code",
      "source": [
        "# Removing duplicate IDs\n",
        "# drop_duplicates() is used to remove duplicate lines based on ride IDs (ride_id).\n",
        "\n",
        "bikedata = bikedata.drop_duplicates(subset=['ride_id'])\n",
        "\n",
        "print(bikedata.info())"
      ],
      "metadata": {
        "colab": {
          "base_uri": "https://localhost:8080/"
        },
        "id": "zWQaINTDnwSC",
        "outputId": "84f85745-1ca9-4075-8f4e-2398ddc1d33e"
      },
      "execution_count": null,
      "outputs": [
        {
          "output_type": "stream",
          "name": "stdout",
          "text": [
            "<class 'pandas.core.frame.DataFrame'>\n",
            "Int64Index: 4331707 entries, 0 to 5719876\n",
            "Data columns (total 19 columns):\n",
            " #   Column              Dtype         \n",
            "---  ------              -----         \n",
            " 0   ride_id             object        \n",
            " 1   rideable_type       object        \n",
            " 2   started_at          datetime64[ns]\n",
            " 3   ended_at            datetime64[ns]\n",
            " 4   start_station_name  object        \n",
            " 5   start_station_id    object        \n",
            " 6   end_station_name    object        \n",
            " 7   end_station_id      object        \n",
            " 8   start_lat           float64       \n",
            " 9   start_lng           float64       \n",
            " 10  end_lat             float64       \n",
            " 11  end_lng             float64       \n",
            " 12  member_casual       object        \n",
            " 13  date                datetime64[ns]\n",
            " 14  month               object        \n",
            " 15  day                 object        \n",
            " 16  year                object        \n",
            " 17  day_of_week         object        \n",
            " 18  ride_length         float64       \n",
            "dtypes: datetime64[ns](3), float64(5), object(11)\n",
            "memory usage: 661.0+ MB\n",
            "None\n"
          ]
        }
      ]
    },
    {
      "cell_type": "code",
      "source": [
        "# Calculating distance between bike stations\n",
        "\n",
        "# We will use the geopy library, which provides a function to calculate the distance between two geographic points\n",
        "# geodesic() is used to calculate the geodesic distance between two points, specified by latitude and longitude coordinates.\n",
        "# .apply() is used to apply the lambda function to each row of the DataFrame, calculating the distance for each trip.\n",
        "# axis=1 indicates that the lambda function should be applied along the lines of the DataFrame.\n",
        "# meters is used to specify that the distance should be returned in meters.\n",
        "\n",
        "bikedata['ride_distance'] = bikedata.apply(lambda row: geodesic((row['start_lat'], row['start_lng']), (row['end_lat'], row['end_lng'])).meters, axis=1)\n",
        "\n"
      ],
      "metadata": {
        "id": "517S08hyqUJu"
      },
      "execution_count": null,
      "outputs": []
    },
    {
      "cell_type": "code",
      "source": [
        "bikedata.head()"
      ],
      "metadata": {
        "colab": {
          "base_uri": "https://localhost:8080/",
          "height": 399
        },
        "id": "C_x4dLgMwH4-",
        "outputId": "fae422b1-afc8-49e7-aeac-d3f72ab38094"
      },
      "execution_count": null,
      "outputs": [
        {
          "output_type": "execute_result",
          "data": {
            "text/plain": [
              "            ride_id  rideable_type          started_at            ended_at  \\\n",
              "0  F96D5A74A3E41399  electric_bike 2023-01-21 20:05:42 2023-01-21 20:16:33   \n",
              "1  13CB7EB698CEDB88   classic_bike 2023-01-10 15:37:36 2023-01-10 15:46:05   \n",
              "2  BD88A2E670661CE5  electric_bike 2023-01-02 07:51:57 2023-01-02 08:05:11   \n",
              "3  C90792D034FED968   classic_bike 2023-01-22 10:52:58 2023-01-22 11:01:44   \n",
              "4  3397017529188E8A   classic_bike 2023-01-12 13:58:01 2023-01-12 14:13:20   \n",
              "\n",
              "            start_station_name start_station_id  \\\n",
              "0  Lincoln Ave & Fullerton Ave     TA1309000058   \n",
              "1        Kimbark Ave & 53rd St     TA1309000037   \n",
              "2       Western Ave & Lunt Ave           RP-005   \n",
              "3        Kimbark Ave & 53rd St     TA1309000037   \n",
              "4        Kimbark Ave & 53rd St     TA1309000037   \n",
              "\n",
              "                 end_station_name end_station_id  start_lat  start_lng  \\\n",
              "0       Hampden Ct & Diversey Ave       202480.0  41.924074 -87.646278   \n",
              "1         Greenwood Ave & 47th St   TA1308000002  41.799568 -87.594747   \n",
              "2  Valli Produce - Evanston Plaza            599  42.008571 -87.690483   \n",
              "3         Greenwood Ave & 47th St   TA1308000002  41.799568 -87.594747   \n",
              "4         Greenwood Ave & 47th St   TA1308000002  41.799568 -87.594747   \n",
              "\n",
              "     end_lat    end_lng member_casual                date month day  year  \\\n",
              "0  41.930000 -87.640000        member 2023-01-21 20:05:42    01  21  2023   \n",
              "1  41.809835 -87.599383        member 2023-01-10 15:37:36    01  10  2023   \n",
              "2  42.039742 -87.699413        casual 2023-01-02 07:51:57    01  02  2023   \n",
              "3  41.809835 -87.599383        member 2023-01-22 10:52:58    01  22  2023   \n",
              "4  41.809835 -87.599383        member 2023-01-12 13:58:01    01  12  2023   \n",
              "\n",
              "  day_of_week  ride_length  ride_distance  \n",
              "0    Saturday        651.0     839.312761  \n",
              "1     Tuesday        509.0    1203.673927  \n",
              "2      Monday        794.0    3540.392286  \n",
              "3      Sunday        526.0    1203.673927  \n",
              "4    Thursday        919.0    1203.673927  "
            ],
            "text/html": [
              "\n",
              "  <div id=\"df-48e2ec83-9770-46bf-b090-1b240db26bdb\" class=\"colab-df-container\">\n",
              "    <div>\n",
              "<style scoped>\n",
              "    .dataframe tbody tr th:only-of-type {\n",
              "        vertical-align: middle;\n",
              "    }\n",
              "\n",
              "    .dataframe tbody tr th {\n",
              "        vertical-align: top;\n",
              "    }\n",
              "\n",
              "    .dataframe thead th {\n",
              "        text-align: right;\n",
              "    }\n",
              "</style>\n",
              "<table border=\"1\" class=\"dataframe\">\n",
              "  <thead>\n",
              "    <tr style=\"text-align: right;\">\n",
              "      <th></th>\n",
              "      <th>ride_id</th>\n",
              "      <th>rideable_type</th>\n",
              "      <th>started_at</th>\n",
              "      <th>ended_at</th>\n",
              "      <th>start_station_name</th>\n",
              "      <th>start_station_id</th>\n",
              "      <th>end_station_name</th>\n",
              "      <th>end_station_id</th>\n",
              "      <th>start_lat</th>\n",
              "      <th>start_lng</th>\n",
              "      <th>end_lat</th>\n",
              "      <th>end_lng</th>\n",
              "      <th>member_casual</th>\n",
              "      <th>date</th>\n",
              "      <th>month</th>\n",
              "      <th>day</th>\n",
              "      <th>year</th>\n",
              "      <th>day_of_week</th>\n",
              "      <th>ride_length</th>\n",
              "      <th>ride_distance</th>\n",
              "    </tr>\n",
              "  </thead>\n",
              "  <tbody>\n",
              "    <tr>\n",
              "      <th>0</th>\n",
              "      <td>F96D5A74A3E41399</td>\n",
              "      <td>electric_bike</td>\n",
              "      <td>2023-01-21 20:05:42</td>\n",
              "      <td>2023-01-21 20:16:33</td>\n",
              "      <td>Lincoln Ave &amp; Fullerton Ave</td>\n",
              "      <td>TA1309000058</td>\n",
              "      <td>Hampden Ct &amp; Diversey Ave</td>\n",
              "      <td>202480.0</td>\n",
              "      <td>41.924074</td>\n",
              "      <td>-87.646278</td>\n",
              "      <td>41.930000</td>\n",
              "      <td>-87.640000</td>\n",
              "      <td>member</td>\n",
              "      <td>2023-01-21 20:05:42</td>\n",
              "      <td>01</td>\n",
              "      <td>21</td>\n",
              "      <td>2023</td>\n",
              "      <td>Saturday</td>\n",
              "      <td>651.0</td>\n",
              "      <td>839.312761</td>\n",
              "    </tr>\n",
              "    <tr>\n",
              "      <th>1</th>\n",
              "      <td>13CB7EB698CEDB88</td>\n",
              "      <td>classic_bike</td>\n",
              "      <td>2023-01-10 15:37:36</td>\n",
              "      <td>2023-01-10 15:46:05</td>\n",
              "      <td>Kimbark Ave &amp; 53rd St</td>\n",
              "      <td>TA1309000037</td>\n",
              "      <td>Greenwood Ave &amp; 47th St</td>\n",
              "      <td>TA1308000002</td>\n",
              "      <td>41.799568</td>\n",
              "      <td>-87.594747</td>\n",
              "      <td>41.809835</td>\n",
              "      <td>-87.599383</td>\n",
              "      <td>member</td>\n",
              "      <td>2023-01-10 15:37:36</td>\n",
              "      <td>01</td>\n",
              "      <td>10</td>\n",
              "      <td>2023</td>\n",
              "      <td>Tuesday</td>\n",
              "      <td>509.0</td>\n",
              "      <td>1203.673927</td>\n",
              "    </tr>\n",
              "    <tr>\n",
              "      <th>2</th>\n",
              "      <td>BD88A2E670661CE5</td>\n",
              "      <td>electric_bike</td>\n",
              "      <td>2023-01-02 07:51:57</td>\n",
              "      <td>2023-01-02 08:05:11</td>\n",
              "      <td>Western Ave &amp; Lunt Ave</td>\n",
              "      <td>RP-005</td>\n",
              "      <td>Valli Produce - Evanston Plaza</td>\n",
              "      <td>599</td>\n",
              "      <td>42.008571</td>\n",
              "      <td>-87.690483</td>\n",
              "      <td>42.039742</td>\n",
              "      <td>-87.699413</td>\n",
              "      <td>casual</td>\n",
              "      <td>2023-01-02 07:51:57</td>\n",
              "      <td>01</td>\n",
              "      <td>02</td>\n",
              "      <td>2023</td>\n",
              "      <td>Monday</td>\n",
              "      <td>794.0</td>\n",
              "      <td>3540.392286</td>\n",
              "    </tr>\n",
              "    <tr>\n",
              "      <th>3</th>\n",
              "      <td>C90792D034FED968</td>\n",
              "      <td>classic_bike</td>\n",
              "      <td>2023-01-22 10:52:58</td>\n",
              "      <td>2023-01-22 11:01:44</td>\n",
              "      <td>Kimbark Ave &amp; 53rd St</td>\n",
              "      <td>TA1309000037</td>\n",
              "      <td>Greenwood Ave &amp; 47th St</td>\n",
              "      <td>TA1308000002</td>\n",
              "      <td>41.799568</td>\n",
              "      <td>-87.594747</td>\n",
              "      <td>41.809835</td>\n",
              "      <td>-87.599383</td>\n",
              "      <td>member</td>\n",
              "      <td>2023-01-22 10:52:58</td>\n",
              "      <td>01</td>\n",
              "      <td>22</td>\n",
              "      <td>2023</td>\n",
              "      <td>Sunday</td>\n",
              "      <td>526.0</td>\n",
              "      <td>1203.673927</td>\n",
              "    </tr>\n",
              "    <tr>\n",
              "      <th>4</th>\n",
              "      <td>3397017529188E8A</td>\n",
              "      <td>classic_bike</td>\n",
              "      <td>2023-01-12 13:58:01</td>\n",
              "      <td>2023-01-12 14:13:20</td>\n",
              "      <td>Kimbark Ave &amp; 53rd St</td>\n",
              "      <td>TA1309000037</td>\n",
              "      <td>Greenwood Ave &amp; 47th St</td>\n",
              "      <td>TA1308000002</td>\n",
              "      <td>41.799568</td>\n",
              "      <td>-87.594747</td>\n",
              "      <td>41.809835</td>\n",
              "      <td>-87.599383</td>\n",
              "      <td>member</td>\n",
              "      <td>2023-01-12 13:58:01</td>\n",
              "      <td>01</td>\n",
              "      <td>12</td>\n",
              "      <td>2023</td>\n",
              "      <td>Thursday</td>\n",
              "      <td>919.0</td>\n",
              "      <td>1203.673927</td>\n",
              "    </tr>\n",
              "  </tbody>\n",
              "</table>\n",
              "</div>\n",
              "    <div class=\"colab-df-buttons\">\n",
              "\n",
              "  <div class=\"colab-df-container\">\n",
              "    <button class=\"colab-df-convert\" onclick=\"convertToInteractive('df-48e2ec83-9770-46bf-b090-1b240db26bdb')\"\n",
              "            title=\"Convert this dataframe to an interactive table.\"\n",
              "            style=\"display:none;\">\n",
              "\n",
              "  <svg xmlns=\"http://www.w3.org/2000/svg\" height=\"24px\" viewBox=\"0 -960 960 960\">\n",
              "    <path d=\"M120-120v-720h720v720H120Zm60-500h600v-160H180v160Zm220 220h160v-160H400v160Zm0 220h160v-160H400v160ZM180-400h160v-160H180v160Zm440 0h160v-160H620v160ZM180-180h160v-160H180v160Zm440 0h160v-160H620v160Z\"/>\n",
              "  </svg>\n",
              "    </button>\n",
              "\n",
              "  <style>\n",
              "    .colab-df-container {\n",
              "      display:flex;\n",
              "      gap: 12px;\n",
              "    }\n",
              "\n",
              "    .colab-df-convert {\n",
              "      background-color: #E8F0FE;\n",
              "      border: none;\n",
              "      border-radius: 50%;\n",
              "      cursor: pointer;\n",
              "      display: none;\n",
              "      fill: #1967D2;\n",
              "      height: 32px;\n",
              "      padding: 0 0 0 0;\n",
              "      width: 32px;\n",
              "    }\n",
              "\n",
              "    .colab-df-convert:hover {\n",
              "      background-color: #E2EBFA;\n",
              "      box-shadow: 0px 1px 2px rgba(60, 64, 67, 0.3), 0px 1px 3px 1px rgba(60, 64, 67, 0.15);\n",
              "      fill: #174EA6;\n",
              "    }\n",
              "\n",
              "    .colab-df-buttons div {\n",
              "      margin-bottom: 4px;\n",
              "    }\n",
              "\n",
              "    [theme=dark] .colab-df-convert {\n",
              "      background-color: #3B4455;\n",
              "      fill: #D2E3FC;\n",
              "    }\n",
              "\n",
              "    [theme=dark] .colab-df-convert:hover {\n",
              "      background-color: #434B5C;\n",
              "      box-shadow: 0px 1px 3px 1px rgba(0, 0, 0, 0.15);\n",
              "      filter: drop-shadow(0px 1px 2px rgba(0, 0, 0, 0.3));\n",
              "      fill: #FFFFFF;\n",
              "    }\n",
              "  </style>\n",
              "\n",
              "    <script>\n",
              "      const buttonEl =\n",
              "        document.querySelector('#df-48e2ec83-9770-46bf-b090-1b240db26bdb button.colab-df-convert');\n",
              "      buttonEl.style.display =\n",
              "        google.colab.kernel.accessAllowed ? 'block' : 'none';\n",
              "\n",
              "      async function convertToInteractive(key) {\n",
              "        const element = document.querySelector('#df-48e2ec83-9770-46bf-b090-1b240db26bdb');\n",
              "        const dataTable =\n",
              "          await google.colab.kernel.invokeFunction('convertToInteractive',\n",
              "                                                    [key], {});\n",
              "        if (!dataTable) return;\n",
              "\n",
              "        const docLinkHtml = 'Like what you see? Visit the ' +\n",
              "          '<a target=\"_blank\" href=https://colab.research.google.com/notebooks/data_table.ipynb>data table notebook</a>'\n",
              "          + ' to learn more about interactive tables.';\n",
              "        element.innerHTML = '';\n",
              "        dataTable['output_type'] = 'display_data';\n",
              "        await google.colab.output.renderOutput(dataTable, element);\n",
              "        const docLink = document.createElement('div');\n",
              "        docLink.innerHTML = docLinkHtml;\n",
              "        element.appendChild(docLink);\n",
              "      }\n",
              "    </script>\n",
              "  </div>\n",
              "\n",
              "\n",
              "<div id=\"df-7a3141cf-bd36-40aa-bd28-9eee5074fc4a\">\n",
              "  <button class=\"colab-df-quickchart\" onclick=\"quickchart('df-7a3141cf-bd36-40aa-bd28-9eee5074fc4a')\"\n",
              "            title=\"Suggest charts\"\n",
              "            style=\"display:none;\">\n",
              "\n",
              "<svg xmlns=\"http://www.w3.org/2000/svg\" height=\"24px\"viewBox=\"0 0 24 24\"\n",
              "     width=\"24px\">\n",
              "    <g>\n",
              "        <path d=\"M19 3H5c-1.1 0-2 .9-2 2v14c0 1.1.9 2 2 2h14c1.1 0 2-.9 2-2V5c0-1.1-.9-2-2-2zM9 17H7v-7h2v7zm4 0h-2V7h2v10zm4 0h-2v-4h2v4z\"/>\n",
              "    </g>\n",
              "</svg>\n",
              "  </button>\n",
              "\n",
              "<style>\n",
              "  .colab-df-quickchart {\n",
              "      --bg-color: #E8F0FE;\n",
              "      --fill-color: #1967D2;\n",
              "      --hover-bg-color: #E2EBFA;\n",
              "      --hover-fill-color: #174EA6;\n",
              "      --disabled-fill-color: #AAA;\n",
              "      --disabled-bg-color: #DDD;\n",
              "  }\n",
              "\n",
              "  [theme=dark] .colab-df-quickchart {\n",
              "      --bg-color: #3B4455;\n",
              "      --fill-color: #D2E3FC;\n",
              "      --hover-bg-color: #434B5C;\n",
              "      --hover-fill-color: #FFFFFF;\n",
              "      --disabled-bg-color: #3B4455;\n",
              "      --disabled-fill-color: #666;\n",
              "  }\n",
              "\n",
              "  .colab-df-quickchart {\n",
              "    background-color: var(--bg-color);\n",
              "    border: none;\n",
              "    border-radius: 50%;\n",
              "    cursor: pointer;\n",
              "    display: none;\n",
              "    fill: var(--fill-color);\n",
              "    height: 32px;\n",
              "    padding: 0;\n",
              "    width: 32px;\n",
              "  }\n",
              "\n",
              "  .colab-df-quickchart:hover {\n",
              "    background-color: var(--hover-bg-color);\n",
              "    box-shadow: 0 1px 2px rgba(60, 64, 67, 0.3), 0 1px 3px 1px rgba(60, 64, 67, 0.15);\n",
              "    fill: var(--button-hover-fill-color);\n",
              "  }\n",
              "\n",
              "  .colab-df-quickchart-complete:disabled,\n",
              "  .colab-df-quickchart-complete:disabled:hover {\n",
              "    background-color: var(--disabled-bg-color);\n",
              "    fill: var(--disabled-fill-color);\n",
              "    box-shadow: none;\n",
              "  }\n",
              "\n",
              "  .colab-df-spinner {\n",
              "    border: 2px solid var(--fill-color);\n",
              "    border-color: transparent;\n",
              "    border-bottom-color: var(--fill-color);\n",
              "    animation:\n",
              "      spin 1s steps(1) infinite;\n",
              "  }\n",
              "\n",
              "  @keyframes spin {\n",
              "    0% {\n",
              "      border-color: transparent;\n",
              "      border-bottom-color: var(--fill-color);\n",
              "      border-left-color: var(--fill-color);\n",
              "    }\n",
              "    20% {\n",
              "      border-color: transparent;\n",
              "      border-left-color: var(--fill-color);\n",
              "      border-top-color: var(--fill-color);\n",
              "    }\n",
              "    30% {\n",
              "      border-color: transparent;\n",
              "      border-left-color: var(--fill-color);\n",
              "      border-top-color: var(--fill-color);\n",
              "      border-right-color: var(--fill-color);\n",
              "    }\n",
              "    40% {\n",
              "      border-color: transparent;\n",
              "      border-right-color: var(--fill-color);\n",
              "      border-top-color: var(--fill-color);\n",
              "    }\n",
              "    60% {\n",
              "      border-color: transparent;\n",
              "      border-right-color: var(--fill-color);\n",
              "    }\n",
              "    80% {\n",
              "      border-color: transparent;\n",
              "      border-right-color: var(--fill-color);\n",
              "      border-bottom-color: var(--fill-color);\n",
              "    }\n",
              "    90% {\n",
              "      border-color: transparent;\n",
              "      border-bottom-color: var(--fill-color);\n",
              "    }\n",
              "  }\n",
              "</style>\n",
              "\n",
              "  <script>\n",
              "    async function quickchart(key) {\n",
              "      const quickchartButtonEl =\n",
              "        document.querySelector('#' + key + ' button');\n",
              "      quickchartButtonEl.disabled = true;  // To prevent multiple clicks.\n",
              "      quickchartButtonEl.classList.add('colab-df-spinner');\n",
              "      try {\n",
              "        const charts = await google.colab.kernel.invokeFunction(\n",
              "            'suggestCharts', [key], {});\n",
              "      } catch (error) {\n",
              "        console.error('Error during call to suggestCharts:', error);\n",
              "      }\n",
              "      quickchartButtonEl.classList.remove('colab-df-spinner');\n",
              "      quickchartButtonEl.classList.add('colab-df-quickchart-complete');\n",
              "    }\n",
              "    (() => {\n",
              "      let quickchartButtonEl =\n",
              "        document.querySelector('#df-7a3141cf-bd36-40aa-bd28-9eee5074fc4a button');\n",
              "      quickchartButtonEl.style.display =\n",
              "        google.colab.kernel.accessAllowed ? 'block' : 'none';\n",
              "    })();\n",
              "  </script>\n",
              "</div>\n",
              "    </div>\n",
              "  </div>\n"
            ]
          },
          "metadata": {},
          "execution_count": 42
        }
      ]
    },
    {
      "cell_type": "code",
      "source": [
        "bikedata.to_csv('BikeSharingData.csv', index=False)\n",
        "\n",
        "# Baixar o arquivo usando a função files\n",
        "files.download('BikeSharingData.csv')"
      ],
      "metadata": {
        "colab": {
          "base_uri": "https://localhost:8080/",
          "height": 17
        },
        "id": "VpH0NZvgwNCc",
        "outputId": "104370a0-4160-49b9-fb0a-a0f67fe51272"
      },
      "execution_count": null,
      "outputs": [
        {
          "output_type": "display_data",
          "data": {
            "text/plain": [
              "<IPython.core.display.Javascript object>"
            ],
            "application/javascript": [
              "\n",
              "    async function download(id, filename, size) {\n",
              "      if (!google.colab.kernel.accessAllowed) {\n",
              "        return;\n",
              "      }\n",
              "      const div = document.createElement('div');\n",
              "      const label = document.createElement('label');\n",
              "      label.textContent = `Downloading \"${filename}\": `;\n",
              "      div.appendChild(label);\n",
              "      const progress = document.createElement('progress');\n",
              "      progress.max = size;\n",
              "      div.appendChild(progress);\n",
              "      document.body.appendChild(div);\n",
              "\n",
              "      const buffers = [];\n",
              "      let downloaded = 0;\n",
              "\n",
              "      const channel = await google.colab.kernel.comms.open(id);\n",
              "      // Send a message to notify the kernel that we're ready.\n",
              "      channel.send({})\n",
              "\n",
              "      for await (const message of channel.messages) {\n",
              "        // Send a message to notify the kernel that we're ready.\n",
              "        channel.send({})\n",
              "        if (message.buffers) {\n",
              "          for (const buffer of message.buffers) {\n",
              "            buffers.push(buffer);\n",
              "            downloaded += buffer.byteLength;\n",
              "            progress.value = downloaded;\n",
              "          }\n",
              "        }\n",
              "      }\n",
              "      const blob = new Blob(buffers, {type: 'application/binary'});\n",
              "      const a = document.createElement('a');\n",
              "      a.href = window.URL.createObjectURL(blob);\n",
              "      a.download = filename;\n",
              "      div.appendChild(a);\n",
              "      a.click();\n",
              "      div.remove();\n",
              "    }\n",
              "  "
            ]
          },
          "metadata": {}
        },
        {
          "output_type": "display_data",
          "data": {
            "text/plain": [
              "<IPython.core.display.Javascript object>"
            ],
            "application/javascript": [
              "download(\"download_fd7870f9-6080-420b-a5ae-4014013498fe\", \"BikeSharingData.csv\", 1127701614)"
            ]
          },
          "metadata": {}
        }
      ]
    },
    {
      "cell_type": "code",
      "source": [
        "import pandas as pd\n",
        "import numpy as np\n",
        "import matplotlib.pyplot as plt\n",
        "import seaborn as sns\n",
        "from geopy.distance import geodesic\n",
        "from google.colab import files"
      ],
      "metadata": {
        "id": "fR3Y9fJJeOjR"
      },
      "execution_count": 1,
      "outputs": []
    },
    {
      "cell_type": "code",
      "source": [
        "bikedata = pd.read_csv('/content/drive/MyDrive/BikeSharingData.csv')"
      ],
      "metadata": {
        "id": "OdWbr5jweRU5"
      },
      "execution_count": 2,
      "outputs": []
    },
    {
      "cell_type": "markdown",
      "source": [
        "**Descritive analysis and Exploratory Data Analysis (EDA)**"
      ],
      "metadata": {
        "id": "fJ7_RXyBhs9G"
      }
    },
    {
      "cell_type": "code",
      "source": [
        "bikedata.head()"
      ],
      "metadata": {
        "colab": {
          "base_uri": "https://localhost:8080/",
          "height": 399
        },
        "id": "MBvz-ytJh9y2",
        "outputId": "7ce29589-e734-4019-9989-cdb0724cbc67"
      },
      "execution_count": null,
      "outputs": [
        {
          "output_type": "execute_result",
          "data": {
            "text/plain": [
              "            ride_id  rideable_type           started_at             ended_at  \\\n",
              "0  F96D5A74A3E41399  electric_bike  2023-01-21 20:05:42  2023-01-21 20:16:33   \n",
              "1  13CB7EB698CEDB88   classic_bike  2023-01-10 15:37:36  2023-01-10 15:46:05   \n",
              "2  BD88A2E670661CE5  electric_bike  2023-01-02 07:51:57  2023-01-02 08:05:11   \n",
              "3  C90792D034FED968   classic_bike  2023-01-22 10:52:58  2023-01-22 11:01:44   \n",
              "4  3397017529188E8A   classic_bike  2023-01-12 13:58:01  2023-01-12 14:13:20   \n",
              "\n",
              "            start_station_name start_station_id  \\\n",
              "0  Lincoln Ave & Fullerton Ave     TA1309000058   \n",
              "1        Kimbark Ave & 53rd St     TA1309000037   \n",
              "2       Western Ave & Lunt Ave           RP-005   \n",
              "3        Kimbark Ave & 53rd St     TA1309000037   \n",
              "4        Kimbark Ave & 53rd St     TA1309000037   \n",
              "\n",
              "                 end_station_name end_station_id  start_lat  start_lng  \\\n",
              "0       Hampden Ct & Diversey Ave       202480.0  41.924074 -87.646278   \n",
              "1         Greenwood Ave & 47th St   TA1308000002  41.799568 -87.594747   \n",
              "2  Valli Produce - Evanston Plaza            599  42.008571 -87.690483   \n",
              "3         Greenwood Ave & 47th St   TA1308000002  41.799568 -87.594747   \n",
              "4         Greenwood Ave & 47th St   TA1308000002  41.799568 -87.594747   \n",
              "\n",
              "     end_lat    end_lng member_casual                 date  month  day  year  \\\n",
              "0  41.930000 -87.640000        member  2023-01-21 20:05:42      1   21  2023   \n",
              "1  41.809835 -87.599383        member  2023-01-10 15:37:36      1   10  2023   \n",
              "2  42.039742 -87.699413        casual  2023-01-02 07:51:57      1    2  2023   \n",
              "3  41.809835 -87.599383        member  2023-01-22 10:52:58      1   22  2023   \n",
              "4  41.809835 -87.599383        member  2023-01-12 13:58:01      1   12  2023   \n",
              "\n",
              "  day_of_week  ride_length  ride_distance  \n",
              "0    Saturday        651.0     839.312761  \n",
              "1     Tuesday        509.0    1203.673927  \n",
              "2      Monday        794.0    3540.392286  \n",
              "3      Sunday        526.0    1203.673927  \n",
              "4    Thursday        919.0    1203.673927  "
            ],
            "text/html": [
              "\n",
              "  <div id=\"df-84e14e43-7896-4ce4-b386-da82c2246f3a\" class=\"colab-df-container\">\n",
              "    <div>\n",
              "<style scoped>\n",
              "    .dataframe tbody tr th:only-of-type {\n",
              "        vertical-align: middle;\n",
              "    }\n",
              "\n",
              "    .dataframe tbody tr th {\n",
              "        vertical-align: top;\n",
              "    }\n",
              "\n",
              "    .dataframe thead th {\n",
              "        text-align: right;\n",
              "    }\n",
              "</style>\n",
              "<table border=\"1\" class=\"dataframe\">\n",
              "  <thead>\n",
              "    <tr style=\"text-align: right;\">\n",
              "      <th></th>\n",
              "      <th>ride_id</th>\n",
              "      <th>rideable_type</th>\n",
              "      <th>started_at</th>\n",
              "      <th>ended_at</th>\n",
              "      <th>start_station_name</th>\n",
              "      <th>start_station_id</th>\n",
              "      <th>end_station_name</th>\n",
              "      <th>end_station_id</th>\n",
              "      <th>start_lat</th>\n",
              "      <th>start_lng</th>\n",
              "      <th>end_lat</th>\n",
              "      <th>end_lng</th>\n",
              "      <th>member_casual</th>\n",
              "      <th>date</th>\n",
              "      <th>month</th>\n",
              "      <th>day</th>\n",
              "      <th>year</th>\n",
              "      <th>day_of_week</th>\n",
              "      <th>ride_length</th>\n",
              "      <th>ride_distance</th>\n",
              "    </tr>\n",
              "  </thead>\n",
              "  <tbody>\n",
              "    <tr>\n",
              "      <th>0</th>\n",
              "      <td>F96D5A74A3E41399</td>\n",
              "      <td>electric_bike</td>\n",
              "      <td>2023-01-21 20:05:42</td>\n",
              "      <td>2023-01-21 20:16:33</td>\n",
              "      <td>Lincoln Ave &amp; Fullerton Ave</td>\n",
              "      <td>TA1309000058</td>\n",
              "      <td>Hampden Ct &amp; Diversey Ave</td>\n",
              "      <td>202480.0</td>\n",
              "      <td>41.924074</td>\n",
              "      <td>-87.646278</td>\n",
              "      <td>41.930000</td>\n",
              "      <td>-87.640000</td>\n",
              "      <td>member</td>\n",
              "      <td>2023-01-21 20:05:42</td>\n",
              "      <td>1</td>\n",
              "      <td>21</td>\n",
              "      <td>2023</td>\n",
              "      <td>Saturday</td>\n",
              "      <td>651.0</td>\n",
              "      <td>839.312761</td>\n",
              "    </tr>\n",
              "    <tr>\n",
              "      <th>1</th>\n",
              "      <td>13CB7EB698CEDB88</td>\n",
              "      <td>classic_bike</td>\n",
              "      <td>2023-01-10 15:37:36</td>\n",
              "      <td>2023-01-10 15:46:05</td>\n",
              "      <td>Kimbark Ave &amp; 53rd St</td>\n",
              "      <td>TA1309000037</td>\n",
              "      <td>Greenwood Ave &amp; 47th St</td>\n",
              "      <td>TA1308000002</td>\n",
              "      <td>41.799568</td>\n",
              "      <td>-87.594747</td>\n",
              "      <td>41.809835</td>\n",
              "      <td>-87.599383</td>\n",
              "      <td>member</td>\n",
              "      <td>2023-01-10 15:37:36</td>\n",
              "      <td>1</td>\n",
              "      <td>10</td>\n",
              "      <td>2023</td>\n",
              "      <td>Tuesday</td>\n",
              "      <td>509.0</td>\n",
              "      <td>1203.673927</td>\n",
              "    </tr>\n",
              "    <tr>\n",
              "      <th>2</th>\n",
              "      <td>BD88A2E670661CE5</td>\n",
              "      <td>electric_bike</td>\n",
              "      <td>2023-01-02 07:51:57</td>\n",
              "      <td>2023-01-02 08:05:11</td>\n",
              "      <td>Western Ave &amp; Lunt Ave</td>\n",
              "      <td>RP-005</td>\n",
              "      <td>Valli Produce - Evanston Plaza</td>\n",
              "      <td>599</td>\n",
              "      <td>42.008571</td>\n",
              "      <td>-87.690483</td>\n",
              "      <td>42.039742</td>\n",
              "      <td>-87.699413</td>\n",
              "      <td>casual</td>\n",
              "      <td>2023-01-02 07:51:57</td>\n",
              "      <td>1</td>\n",
              "      <td>2</td>\n",
              "      <td>2023</td>\n",
              "      <td>Monday</td>\n",
              "      <td>794.0</td>\n",
              "      <td>3540.392286</td>\n",
              "    </tr>\n",
              "    <tr>\n",
              "      <th>3</th>\n",
              "      <td>C90792D034FED968</td>\n",
              "      <td>classic_bike</td>\n",
              "      <td>2023-01-22 10:52:58</td>\n",
              "      <td>2023-01-22 11:01:44</td>\n",
              "      <td>Kimbark Ave &amp; 53rd St</td>\n",
              "      <td>TA1309000037</td>\n",
              "      <td>Greenwood Ave &amp; 47th St</td>\n",
              "      <td>TA1308000002</td>\n",
              "      <td>41.799568</td>\n",
              "      <td>-87.594747</td>\n",
              "      <td>41.809835</td>\n",
              "      <td>-87.599383</td>\n",
              "      <td>member</td>\n",
              "      <td>2023-01-22 10:52:58</td>\n",
              "      <td>1</td>\n",
              "      <td>22</td>\n",
              "      <td>2023</td>\n",
              "      <td>Sunday</td>\n",
              "      <td>526.0</td>\n",
              "      <td>1203.673927</td>\n",
              "    </tr>\n",
              "    <tr>\n",
              "      <th>4</th>\n",
              "      <td>3397017529188E8A</td>\n",
              "      <td>classic_bike</td>\n",
              "      <td>2023-01-12 13:58:01</td>\n",
              "      <td>2023-01-12 14:13:20</td>\n",
              "      <td>Kimbark Ave &amp; 53rd St</td>\n",
              "      <td>TA1309000037</td>\n",
              "      <td>Greenwood Ave &amp; 47th St</td>\n",
              "      <td>TA1308000002</td>\n",
              "      <td>41.799568</td>\n",
              "      <td>-87.594747</td>\n",
              "      <td>41.809835</td>\n",
              "      <td>-87.599383</td>\n",
              "      <td>member</td>\n",
              "      <td>2023-01-12 13:58:01</td>\n",
              "      <td>1</td>\n",
              "      <td>12</td>\n",
              "      <td>2023</td>\n",
              "      <td>Thursday</td>\n",
              "      <td>919.0</td>\n",
              "      <td>1203.673927</td>\n",
              "    </tr>\n",
              "  </tbody>\n",
              "</table>\n",
              "</div>\n",
              "    <div class=\"colab-df-buttons\">\n",
              "\n",
              "  <div class=\"colab-df-container\">\n",
              "    <button class=\"colab-df-convert\" onclick=\"convertToInteractive('df-84e14e43-7896-4ce4-b386-da82c2246f3a')\"\n",
              "            title=\"Convert this dataframe to an interactive table.\"\n",
              "            style=\"display:none;\">\n",
              "\n",
              "  <svg xmlns=\"http://www.w3.org/2000/svg\" height=\"24px\" viewBox=\"0 -960 960 960\">\n",
              "    <path d=\"M120-120v-720h720v720H120Zm60-500h600v-160H180v160Zm220 220h160v-160H400v160Zm0 220h160v-160H400v160ZM180-400h160v-160H180v160Zm440 0h160v-160H620v160ZM180-180h160v-160H180v160Zm440 0h160v-160H620v160Z\"/>\n",
              "  </svg>\n",
              "    </button>\n",
              "\n",
              "  <style>\n",
              "    .colab-df-container {\n",
              "      display:flex;\n",
              "      gap: 12px;\n",
              "    }\n",
              "\n",
              "    .colab-df-convert {\n",
              "      background-color: #E8F0FE;\n",
              "      border: none;\n",
              "      border-radius: 50%;\n",
              "      cursor: pointer;\n",
              "      display: none;\n",
              "      fill: #1967D2;\n",
              "      height: 32px;\n",
              "      padding: 0 0 0 0;\n",
              "      width: 32px;\n",
              "    }\n",
              "\n",
              "    .colab-df-convert:hover {\n",
              "      background-color: #E2EBFA;\n",
              "      box-shadow: 0px 1px 2px rgba(60, 64, 67, 0.3), 0px 1px 3px 1px rgba(60, 64, 67, 0.15);\n",
              "      fill: #174EA6;\n",
              "    }\n",
              "\n",
              "    .colab-df-buttons div {\n",
              "      margin-bottom: 4px;\n",
              "    }\n",
              "\n",
              "    [theme=dark] .colab-df-convert {\n",
              "      background-color: #3B4455;\n",
              "      fill: #D2E3FC;\n",
              "    }\n",
              "\n",
              "    [theme=dark] .colab-df-convert:hover {\n",
              "      background-color: #434B5C;\n",
              "      box-shadow: 0px 1px 3px 1px rgba(0, 0, 0, 0.15);\n",
              "      filter: drop-shadow(0px 1px 2px rgba(0, 0, 0, 0.3));\n",
              "      fill: #FFFFFF;\n",
              "    }\n",
              "  </style>\n",
              "\n",
              "    <script>\n",
              "      const buttonEl =\n",
              "        document.querySelector('#df-84e14e43-7896-4ce4-b386-da82c2246f3a button.colab-df-convert');\n",
              "      buttonEl.style.display =\n",
              "        google.colab.kernel.accessAllowed ? 'block' : 'none';\n",
              "\n",
              "      async function convertToInteractive(key) {\n",
              "        const element = document.querySelector('#df-84e14e43-7896-4ce4-b386-da82c2246f3a');\n",
              "        const dataTable =\n",
              "          await google.colab.kernel.invokeFunction('convertToInteractive',\n",
              "                                                    [key], {});\n",
              "        if (!dataTable) return;\n",
              "\n",
              "        const docLinkHtml = 'Like what you see? Visit the ' +\n",
              "          '<a target=\"_blank\" href=https://colab.research.google.com/notebooks/data_table.ipynb>data table notebook</a>'\n",
              "          + ' to learn more about interactive tables.';\n",
              "        element.innerHTML = '';\n",
              "        dataTable['output_type'] = 'display_data';\n",
              "        await google.colab.output.renderOutput(dataTable, element);\n",
              "        const docLink = document.createElement('div');\n",
              "        docLink.innerHTML = docLinkHtml;\n",
              "        element.appendChild(docLink);\n",
              "      }\n",
              "    </script>\n",
              "  </div>\n",
              "\n",
              "\n",
              "<div id=\"df-c54f4514-ca0c-4b62-b095-a1dd918bef18\">\n",
              "  <button class=\"colab-df-quickchart\" onclick=\"quickchart('df-c54f4514-ca0c-4b62-b095-a1dd918bef18')\"\n",
              "            title=\"Suggest charts\"\n",
              "            style=\"display:none;\">\n",
              "\n",
              "<svg xmlns=\"http://www.w3.org/2000/svg\" height=\"24px\"viewBox=\"0 0 24 24\"\n",
              "     width=\"24px\">\n",
              "    <g>\n",
              "        <path d=\"M19 3H5c-1.1 0-2 .9-2 2v14c0 1.1.9 2 2 2h14c1.1 0 2-.9 2-2V5c0-1.1-.9-2-2-2zM9 17H7v-7h2v7zm4 0h-2V7h2v10zm4 0h-2v-4h2v4z\"/>\n",
              "    </g>\n",
              "</svg>\n",
              "  </button>\n",
              "\n",
              "<style>\n",
              "  .colab-df-quickchart {\n",
              "      --bg-color: #E8F0FE;\n",
              "      --fill-color: #1967D2;\n",
              "      --hover-bg-color: #E2EBFA;\n",
              "      --hover-fill-color: #174EA6;\n",
              "      --disabled-fill-color: #AAA;\n",
              "      --disabled-bg-color: #DDD;\n",
              "  }\n",
              "\n",
              "  [theme=dark] .colab-df-quickchart {\n",
              "      --bg-color: #3B4455;\n",
              "      --fill-color: #D2E3FC;\n",
              "      --hover-bg-color: #434B5C;\n",
              "      --hover-fill-color: #FFFFFF;\n",
              "      --disabled-bg-color: #3B4455;\n",
              "      --disabled-fill-color: #666;\n",
              "  }\n",
              "\n",
              "  .colab-df-quickchart {\n",
              "    background-color: var(--bg-color);\n",
              "    border: none;\n",
              "    border-radius: 50%;\n",
              "    cursor: pointer;\n",
              "    display: none;\n",
              "    fill: var(--fill-color);\n",
              "    height: 32px;\n",
              "    padding: 0;\n",
              "    width: 32px;\n",
              "  }\n",
              "\n",
              "  .colab-df-quickchart:hover {\n",
              "    background-color: var(--hover-bg-color);\n",
              "    box-shadow: 0 1px 2px rgba(60, 64, 67, 0.3), 0 1px 3px 1px rgba(60, 64, 67, 0.15);\n",
              "    fill: var(--button-hover-fill-color);\n",
              "  }\n",
              "\n",
              "  .colab-df-quickchart-complete:disabled,\n",
              "  .colab-df-quickchart-complete:disabled:hover {\n",
              "    background-color: var(--disabled-bg-color);\n",
              "    fill: var(--disabled-fill-color);\n",
              "    box-shadow: none;\n",
              "  }\n",
              "\n",
              "  .colab-df-spinner {\n",
              "    border: 2px solid var(--fill-color);\n",
              "    border-color: transparent;\n",
              "    border-bottom-color: var(--fill-color);\n",
              "    animation:\n",
              "      spin 1s steps(1) infinite;\n",
              "  }\n",
              "\n",
              "  @keyframes spin {\n",
              "    0% {\n",
              "      border-color: transparent;\n",
              "      border-bottom-color: var(--fill-color);\n",
              "      border-left-color: var(--fill-color);\n",
              "    }\n",
              "    20% {\n",
              "      border-color: transparent;\n",
              "      border-left-color: var(--fill-color);\n",
              "      border-top-color: var(--fill-color);\n",
              "    }\n",
              "    30% {\n",
              "      border-color: transparent;\n",
              "      border-left-color: var(--fill-color);\n",
              "      border-top-color: var(--fill-color);\n",
              "      border-right-color: var(--fill-color);\n",
              "    }\n",
              "    40% {\n",
              "      border-color: transparent;\n",
              "      border-right-color: var(--fill-color);\n",
              "      border-top-color: var(--fill-color);\n",
              "    }\n",
              "    60% {\n",
              "      border-color: transparent;\n",
              "      border-right-color: var(--fill-color);\n",
              "    }\n",
              "    80% {\n",
              "      border-color: transparent;\n",
              "      border-right-color: var(--fill-color);\n",
              "      border-bottom-color: var(--fill-color);\n",
              "    }\n",
              "    90% {\n",
              "      border-color: transparent;\n",
              "      border-bottom-color: var(--fill-color);\n",
              "    }\n",
              "  }\n",
              "</style>\n",
              "\n",
              "  <script>\n",
              "    async function quickchart(key) {\n",
              "      const quickchartButtonEl =\n",
              "        document.querySelector('#' + key + ' button');\n",
              "      quickchartButtonEl.disabled = true;  // To prevent multiple clicks.\n",
              "      quickchartButtonEl.classList.add('colab-df-spinner');\n",
              "      try {\n",
              "        const charts = await google.colab.kernel.invokeFunction(\n",
              "            'suggestCharts', [key], {});\n",
              "      } catch (error) {\n",
              "        console.error('Error during call to suggestCharts:', error);\n",
              "      }\n",
              "      quickchartButtonEl.classList.remove('colab-df-spinner');\n",
              "      quickchartButtonEl.classList.add('colab-df-quickchart-complete');\n",
              "    }\n",
              "    (() => {\n",
              "      let quickchartButtonEl =\n",
              "        document.querySelector('#df-c54f4514-ca0c-4b62-b095-a1dd918bef18 button');\n",
              "      quickchartButtonEl.style.display =\n",
              "        google.colab.kernel.accessAllowed ? 'block' : 'none';\n",
              "    })();\n",
              "  </script>\n",
              "</div>\n",
              "    </div>\n",
              "  </div>\n"
            ]
          },
          "metadata": {},
          "execution_count": 11
        }
      ]
    },
    {
      "cell_type": "code",
      "source": [
        "bikedata.info()"
      ],
      "metadata": {
        "colab": {
          "base_uri": "https://localhost:8080/"
        },
        "id": "oDXSXVrU8OpS",
        "outputId": "ce121d90-95b4-4b3e-d9e2-2bcc883bc623"
      },
      "execution_count": null,
      "outputs": [
        {
          "output_type": "stream",
          "name": "stdout",
          "text": [
            "<class 'pandas.core.frame.DataFrame'>\n",
            "RangeIndex: 4331707 entries, 0 to 4331706\n",
            "Data columns (total 20 columns):\n",
            " #   Column              Dtype  \n",
            "---  ------              -----  \n",
            " 0   ride_id             object \n",
            " 1   rideable_type       object \n",
            " 2   started_at          object \n",
            " 3   ended_at            object \n",
            " 4   start_station_name  object \n",
            " 5   start_station_id    object \n",
            " 6   end_station_name    object \n",
            " 7   end_station_id      object \n",
            " 8   start_lat           float64\n",
            " 9   start_lng           float64\n",
            " 10  end_lat             float64\n",
            " 11  end_lng             float64\n",
            " 12  member_casual       object \n",
            " 13  date                object \n",
            " 14  month               int64  \n",
            " 15  day                 int64  \n",
            " 16  year                int64  \n",
            " 17  day_of_week         object \n",
            " 18  ride_length         float64\n",
            " 19  ride_distance       float64\n",
            "dtypes: float64(6), int64(3), object(11)\n",
            "memory usage: 661.0+ MB\n"
          ]
        }
      ]
    },
    {
      "cell_type": "code",
      "source": [
        "bikedata['ride_distance'].describe()"
      ],
      "metadata": {
        "colab": {
          "base_uri": "https://localhost:8080/"
        },
        "id": "U6tYoGpT880O",
        "outputId": "0f627e65-6fb0-407a-fd89-0b7681c37543"
      },
      "execution_count": null,
      "outputs": [
        {
          "output_type": "execute_result",
          "data": {
            "text/plain": [
              "count    4.331707e+06\n",
              "mean     2.064642e+03\n",
              "std      8.373893e+03\n",
              "min      0.000000e+00\n",
              "25%      8.653234e+02\n",
              "50%      1.521886e+03\n",
              "75%      2.674941e+03\n",
              "max      9.818680e+06\n",
              "Name: ride_distance, dtype: float64"
            ]
          },
          "metadata": {},
          "execution_count": 41
        }
      ]
    },
    {
      "cell_type": "code",
      "source": [
        "# ride_length in seconds\n",
        "\n",
        "bikedata['ride_length'].describe()"
      ],
      "metadata": {
        "colab": {
          "base_uri": "https://localhost:8080/"
        },
        "id": "4IdYiX2N-Lro",
        "outputId": "d6ce1219-e44e-4a90-f6cf-bbc0a2b13c49"
      },
      "execution_count": null,
      "outputs": [
        {
          "output_type": "execute_result",
          "data": {
            "text/plain": [
              "count    4.331707e+06\n",
              "mean     9.571109e+02\n",
              "std      2.165232e+03\n",
              "min     -3.274000e+03\n",
              "25%      3.370000e+02\n",
              "50%      5.880000e+02\n",
              "75%      1.049000e+03\n",
              "max      7.281780e+05\n",
              "Name: ride_length, dtype: float64"
            ]
          },
          "metadata": {},
          "execution_count": 40
        }
      ]
    },
    {
      "cell_type": "code",
      "source": [
        "# Assuming that 'df' is your DataFrame and 'column_seconds' is the column with values in seconds\n",
        "df_hours = bikedata.copy()  # Create a copy of the original DataFrame\n",
        "\n",
        "# Transform values in seconds to hours\n",
        "df_hours['ride_length'] = df_hours['ride_length'] / 3600  # 3600 seconds in an hour\n",
        "\n",
        "# Use describe() on the column converted to hours\n",
        "describe_hours = df_hours['ride_length'].describe()\n",
        "\n",
        "print(describe_hours)"
      ],
      "metadata": {
        "colab": {
          "base_uri": "https://localhost:8080/"
        },
        "id": "ORWJoJKuAWIe",
        "outputId": "a77e728d-bc3b-4bae-b768-fa5870f9db58"
      },
      "execution_count": null,
      "outputs": [
        {
          "output_type": "stream",
          "name": "stdout",
          "text": [
            "count    4.331707e+06\n",
            "mean     2.658641e-01\n",
            "std      6.014532e-01\n",
            "min     -9.094444e-01\n",
            "25%      9.361111e-02\n",
            "50%      1.633333e-01\n",
            "75%      2.913889e-01\n",
            "max      2.022717e+02\n",
            "Name: ride_length, dtype: float64\n"
          ]
        }
      ]
    },
    {
      "cell_type": "code",
      "source": [
        "correlation = bikedata.corr()\n",
        "plt.figure(figsize=(8, 6))\n",
        "sns.heatmap(correlation, annot=True, cmap='coolwarm')\n",
        "plt.title('Correlation matrix')\n",
        "plt.show()"
      ],
      "metadata": {
        "colab": {
          "base_uri": "https://localhost:8080/",
          "height": 678
        },
        "id": "UV3SrYLJ9gce",
        "outputId": "15bd81f3-0269-423e-ce80-72970b5aa3af"
      },
      "execution_count": null,
      "outputs": [
        {
          "output_type": "stream",
          "name": "stderr",
          "text": [
            "<ipython-input-3-b7daae3399af>:1: FutureWarning: The default value of numeric_only in DataFrame.corr is deprecated. In a future version, it will default to False. Select only valid columns or specify the value of numeric_only to silence this warning.\n",
            "  correlation = bikedata.corr()\n"
          ]
        },
        {
          "output_type": "display_data",
          "data": {
            "text/plain": [
              "<Figure size 800x600 with 2 Axes>"
            ],
            "image/png": "[encoded data removed]"
          },
          "metadata": {}
        }
      ]
    },
    {
      "cell_type": "code",
      "source": [
        "# Bike type\n",
        "\n",
        "bikedata['rideable_type'].value_counts()"
      ],
      "metadata": {
        "colab": {
          "base_uri": "https://localhost:8080/"
        },
        "id": "qOjbDrLW6yKi",
        "outputId": "1f10efb7-1460-47f2-d0b8-1b5c9fa544c4"
      },
      "execution_count": null,
      "outputs": [
        {
          "output_type": "execute_result",
          "data": {
            "text/plain": [
              "classic_bike     2690744\n",
              "electric_bike    1564839\n",
              "docked_bike        76124\n",
              "Name: rideable_type, dtype: int64"
            ]
          },
          "metadata": {},
          "execution_count": 4
        }
      ]
    },
    {
      "cell_type": "code",
      "source": [
        "# Bike type plot\n",
        "\n",
        "bikedata['rideable_type'].value_counts().plot(kind = 'bar')"
      ],
      "metadata": {
        "colab": {
          "base_uri": "https://localhost:8080/",
          "height": 535
        },
        "id": "YzqPxn3GjPiw",
        "outputId": "2eba08ed-2da2-4ebb-f762-b546b0973734"
      },
      "execution_count": null,
      "outputs": [
        {
          "output_type": "execute_result",
          "data": {
            "text/plain": [
              "<Axes: >"
            ]
          },
          "metadata": {},
          "execution_count": 13
        },
        {
          "output_type": "display_data",
          "data": {
            "text/plain": [
              "<Figure size 640x480 with 1 Axes>"
            ],
            "image/png": "[encoded data removed]"
          },
          "metadata": {}
        }
      ]
    },
    {
      "cell_type": "code",
      "source": [
        "# Start Station\n",
        "\n",
        "bikedata['start_station_name'].value_counts()"
      ],
      "metadata": {
        "colab": {
          "base_uri": "https://localhost:8080/"
        },
        "id": "MY7QsvdK647c",
        "outputId": "1faabb77-bd5e-4f0b-a194-9617a28f925b"
      },
      "execution_count": null,
      "outputs": [
        {
          "output_type": "execute_result",
          "data": {
            "text/plain": [
              "Streeter Dr & Grand Ave                   59614\n",
              "DuSable Lake Shore Dr & Monroe St         38014\n",
              "Michigan Ave & Oak St                     34780\n",
              "DuSable Lake Shore Dr & North Blvd        33163\n",
              "Clark St & Elm St                         32967\n",
              "                                          ...  \n",
              "Public Rack - Vincennes Ave & 77th St         1\n",
              "Public Rack - Claremont Ave & 71st St         1\n",
              "Public Rack - Throop St & 48t ST              1\n",
              "Public Rack - Torrence Ave  & 106th St        1\n",
              "Public Rack - Champlain Ave & 134th St        1\n",
              "Name: start_station_name, Length: 1534, dtype: int64"
            ]
          },
          "metadata": {},
          "execution_count": 5
        }
      ]
    },
    {
      "cell_type": "code",
      "source": [
        "# Final station\n",
        "\n",
        "bikedata['end_station_name'].value_counts()"
      ],
      "metadata": {
        "colab": {
          "base_uri": "https://localhost:8080/"
        },
        "id": "Y-RL_RTt6-N9",
        "outputId": "d85a3e6b-4a9b-4b12-ebc7-38f35f259115"
      },
      "execution_count": null,
      "outputs": [
        {
          "output_type": "execute_result",
          "data": {
            "text/plain": [
              "Streeter Dr & Grand Ave                      61713\n",
              "DuSable Lake Shore Dr & North Blvd           37301\n",
              "DuSable Lake Shore Dr & Monroe St            36211\n",
              "Michigan Ave & Oak St                        35775\n",
              "Clark St & Elm St                            32314\n",
              "                                             ...  \n",
              "Public Rack - New England Ave & Grace St         1\n",
              "Public Rack - Kenneth Ave & 63rd St E            1\n",
              "Public Rack - Cottage Grove Ave & 92nd St        1\n",
              "Public Rack - Langley Ave & 105th Pl             1\n",
              "Public Rack - Honore St & 87th St                1\n",
              "Name: end_station_name, Length: 1557, dtype: int64"
            ]
          },
          "metadata": {},
          "execution_count": 6
        }
      ]
    },
    {
      "cell_type": "code",
      "source": [
        "# Member and casual\n",
        "\n",
        "bikedata['member_casual'].value_counts()"
      ],
      "metadata": {
        "colab": {
          "base_uri": "https://localhost:8080/"
        },
        "id": "29N_hEPC7JOD",
        "outputId": "f7119a17-10be-4c17-c0a5-172fd7673019"
      },
      "execution_count": null,
      "outputs": [
        {
          "output_type": "execute_result",
          "data": {
            "text/plain": [
              "member    2799950\n",
              "casual    1531757\n",
              "Name: member_casual, dtype: int64"
            ]
          },
          "metadata": {},
          "execution_count": 7
        }
      ]
    },
    {
      "cell_type": "code",
      "source": [
        "# Members and casual plot\n",
        "\n",
        "bikedata['member_casual'].value_counts().plot(kind = 'bar')"
      ],
      "metadata": {
        "colab": {
          "base_uri": "https://localhost:8080/",
          "height": 507
        },
        "id": "Fui8sv-yjlsf",
        "outputId": "b0fdfb23-1e0c-4774-d06c-301dabe7d67f"
      },
      "execution_count": null,
      "outputs": [
        {
          "output_type": "execute_result",
          "data": {
            "text/plain": [
              "<Axes: >"
            ]
          },
          "metadata": {},
          "execution_count": 14
        },
        {
          "output_type": "display_data",
          "data": {
            "text/plain": [
              "<Figure size 640x480 with 1 Axes>"
            ],
            "image/png": "[encoded data removed]"
          },
          "metadata": {}
        }
      ]
    },
    {
      "cell_type": "code",
      "source": [
        "# month\n",
        "\n",
        "bikedata['month'].value_counts()"
      ],
      "metadata": {
        "colab": {
          "base_uri": "https://localhost:8080/"
        },
        "id": "ErrL1RzJ7T7Q",
        "outputId": "9a486ceb-1f0a-4ae7-ad96-fca42e5202a7"
      },
      "execution_count": null,
      "outputs": [
        {
          "output_type": "execute_result",
          "data": {
            "text/plain": [
              "8     584919\n",
              "7     573958\n",
              "6     534758\n",
              "9     506635\n",
              "5     463227\n",
              "10    403781\n",
              "4     324197\n",
              "11    274798\n",
              "3     200447\n",
              "12    167143\n",
              "2     149560\n",
              "1     148284\n",
              "Name: month, dtype: int64"
            ]
          },
          "metadata": {},
          "execution_count": 8
        }
      ]
    },
    {
      "cell_type": "code",
      "source": [
        "bikedata['month'].value_counts().plot(kind = 'bar')"
      ],
      "metadata": {
        "colab": {
          "base_uri": "https://localhost:8080/",
          "height": 451
        },
        "id": "INsfwHQHjtLa",
        "outputId": "b1361c39-ae01-4ca1-81bd-8fb1bebeca45"
      },
      "execution_count": null,
      "outputs": [
        {
          "output_type": "execute_result",
          "data": {
            "text/plain": [
              "<Axes: >"
            ]
          },
          "metadata": {},
          "execution_count": 15
        },
        {
          "output_type": "display_data",
          "data": {
            "text/plain": [
              "<Figure size 640x480 with 1 Axes>"
            ],
            "image/png": "[encoded data removed]"
          },
          "metadata": {}
        }
      ]
    },
    {
      "cell_type": "code",
      "source": [
        "# Day\n",
        "\n",
        "bikedata['day'].value_counts()"
      ],
      "metadata": {
        "colab": {
          "base_uri": "https://localhost:8080/"
        },
        "id": "kQ1hGr1R7nBM",
        "outputId": "58d32fcb-eab0-48f8-da6d-6c40284c737f"
      },
      "execution_count": null,
      "outputs": [
        {
          "output_type": "execute_result",
          "data": {
            "text/plain": [
              "15    162271\n",
              "10    159746\n",
              "9     158452\n",
              "4     157740\n",
              "7     155767\n",
              "20    155140\n",
              "21    154464\n",
              "3     151666\n",
              "18    146894\n",
              "8     143713\n",
              "23    143509\n",
              "24    142548\n",
              "6     142345\n",
              "12    140931\n",
              "19    139413\n",
              "16    138441\n",
              "2     137938\n",
              "27    137762\n",
              "13    137580\n",
              "30    136897\n",
              "11    135085\n",
              "22    134781\n",
              "28    134299\n",
              "14    134266\n",
              "5     133889\n",
              "1     133615\n",
              "17    133519\n",
              "29    129080\n",
              "26    125309\n",
              "25    120932\n",
              "31     73715\n",
              "Name: day, dtype: int64"
            ]
          },
          "metadata": {},
          "execution_count": 9
        }
      ]
    },
    {
      "cell_type": "code",
      "source": [
        "bikedata['day'].value_counts().plot(kind = 'bar')"
      ],
      "metadata": {
        "colab": {
          "base_uri": "https://localhost:8080/",
          "height": 451
        },
        "id": "ybZz5cLUoZCO",
        "outputId": "c710d2b5-02ee-4f35-80e0-46985735a6ca"
      },
      "execution_count": null,
      "outputs": [
        {
          "output_type": "execute_result",
          "data": {
            "text/plain": [
              "<Axes: >"
            ]
          },
          "metadata": {},
          "execution_count": 16
        },
        {
          "output_type": "display_data",
          "data": {
            "text/plain": [
              "<Figure size 640x480 with 1 Axes>"
            ],
            "image/png": "[encoded data removed]"
          },
          "metadata": {}
        }
      ]
    },
    {
      "cell_type": "code",
      "source": [
        "# Day of week\n",
        "\n",
        "bikedata['day_of_week'].value_counts()"
      ],
      "metadata": {
        "colab": {
          "base_uri": "https://localhost:8080/"
        },
        "id": "JUFCkivS7vRz",
        "outputId": "f81a006a-bfea-4483-b5ff-f42c66fac71a"
      },
      "execution_count": null,
      "outputs": [
        {
          "output_type": "execute_result",
          "data": {
            "text/plain": [
              "Saturday     660811\n",
              "Thursday     651591\n",
              "Wednesday    635813\n",
              "Tuesday      630387\n",
              "Friday       628376\n",
              "Sunday       562631\n",
              "Monday       562098\n",
              "Name: day_of_week, dtype: int64"
            ]
          },
          "metadata": {},
          "execution_count": 10
        }
      ]
    },
    {
      "cell_type": "code",
      "source": [
        "bikedata['day_of_week'].value_counts().plot(kind = 'bar')"
      ],
      "metadata": {
        "colab": {
          "base_uri": "https://localhost:8080/",
          "height": 513
        },
        "id": "AjdGKvRGjJKg",
        "outputId": "779ca4ab-f5fe-4b32-f90b-f14b5f0920d2"
      },
      "execution_count": null,
      "outputs": [
        {
          "output_type": "execute_result",
          "data": {
            "text/plain": [
              "<Axes: >"
            ]
          },
          "metadata": {},
          "execution_count": 17
        },
        {
          "output_type": "display_data",
          "data": {
            "text/plain": [
              "<Figure size 640x480 with 1 Axes>"
            ],
            "image/png": "[encoded data removed]"
          },
          "metadata": {}
        }
      ]
    },
    {
      "cell_type": "markdown",
      "source": [
        "**How do annual members and casual riders use Cyclistic bikes differently?**"
      ],
      "metadata": {
        "id": "v71OLKfNpCpy"
      }
    },
    {
      "cell_type": "code",
      "source": [
        "bike_grp =bikedata.groupby(['member_casual'])\n",
        "bike_grp['rideable_type'].value_counts()"
      ],
      "metadata": {
        "colab": {
          "base_uri": "https://localhost:8080/"
        },
        "id": "c6DdvaTcow0J",
        "outputId": "45a4e253-016f-4e46-82fd-eca8b68034e9"
      },
      "execution_count": null,
      "outputs": [
        {
          "output_type": "execute_result",
          "data": {
            "text/plain": [
              "member_casual  rideable_type\n",
              "casual         classic_bike      873025\n",
              "               electric_bike     582608\n",
              "               docked_bike        76124\n",
              "member         classic_bike     1817719\n",
              "               electric_bike     982231\n",
              "Name: rideable_type, dtype: int64"
            ]
          },
          "metadata": {},
          "execution_count": 5
        }
      ]
    },
    {
      "cell_type": "code",
      "source": [
        "bike_grp['rideable_type'].value_counts().plot(kind = 'bar')"
      ],
      "metadata": {
        "colab": {
          "base_uri": "https://localhost:8080/",
          "height": 633
        },
        "id": "uVvZYrnZ8ht8",
        "outputId": "70338b37-8e21-4098-86bb-bbdab44ef1b0"
      },
      "execution_count": null,
      "outputs": [
        {
          "output_type": "execute_result",
          "data": {
            "text/plain": [
              "<Axes: xlabel='member_casual,rideable_type'>"
            ]
          },
          "metadata": {},
          "execution_count": 37
        },
        {
          "output_type": "display_data",
          "data": {
            "text/plain": [
              "<Figure size 640x480 with 1 Axes>"
            ],
            "image/png": "[encoded data removed]"
          },
          "metadata": {}
        }
      ]
    },
    {
      "cell_type": "markdown",
      "source": [
        "**Distribution of service usage between members x casual per month**"
      ],
      "metadata": {
        "id": "SYvKeYNK7n2K"
      }
    },
    {
      "cell_type": "code",
      "source": [
        "bike_grp['month'].value_counts()"
      ],
      "metadata": {
        "colab": {
          "base_uri": "https://localhost:8080/"
        },
        "id": "h26Sr1A2poE3",
        "outputId": "9402c629-2e9c-4f0c-fc43-d337af6a2850"
      },
      "execution_count": null,
      "outputs": [
        {
          "output_type": "execute_result",
          "data": {
            "text/plain": [
              "member_casual  month\n",
              "casual         7        245294\n",
              "               8        233856\n",
              "               6        219794\n",
              "               9        196964\n",
              "               5        177039\n",
              "               10       130300\n",
              "               4        110538\n",
              "               11        72097\n",
              "               3         46792\n",
              "               12        36686\n",
              "               2         32776\n",
              "               1         29621\n",
              "member         8        351063\n",
              "               7        328664\n",
              "               6        314964\n",
              "               9        309671\n",
              "               5        286188\n",
              "               10       273481\n",
              "               4        213659\n",
              "               11       202701\n",
              "               3        153655\n",
              "               12       130457\n",
              "               1        118663\n",
              "               2        116784\n",
              "Name: month, dtype: int64"
            ]
          },
          "metadata": {},
          "execution_count": 21
        }
      ]
    },
    {
      "cell_type": "code",
      "source": [
        "# Aggregating the data and maintaining the groups\n",
        "grouped_data = bikedata.groupby(['member_casual', 'month']).size().reset_index(name='number_of_rides')\n",
        "\n",
        "# Plotting the graph\n",
        "sns.barplot(data=grouped_data, x='month', y='number_of_rides', hue='member_casual', dodge=True)\n",
        "plt.xlabel('Month')\n",
        "plt.ylabel('Number of rides')\n",
        "plt.title('Number of rides by user type')\n",
        "plt.legend(title='User types', loc='upper right', bbox_to_anchor=(1.25, 1))\n",
        "\n",
        "# Calculando as médias de corridas dos membros e dos usuários casuais após a agregação dos dados\n",
        "#mean_member_rides = grouped_data[grouped_data['member_casual'] == 'member']['number_of_rides'].mean()\n",
        "#mean_casual_rides = grouped_data[grouped_data['member_casual'] == 'casual']['number_of_rides'].mean()\n",
        "\n",
        "# Adicionando linha de média por tipo de usuário\n",
        "#plt.axhline(y=mean_member_rides, color='blue', linestyle='--', label=f'Mean Member Rides ({mean_member_rides:.2f})')\n",
        "#plt.axhline(y=mean_casual_rides, color='orange', linestyle='--', label=f'Mean Casual Rides ({mean_casual_rides:.2f})')\n",
        "\n",
        "# Adicionando os valores das médias no gráfico\n",
        "#plt.text(0.5, mean_member_rides, f'{mean_member_rides:.2f}', color='blue', fontsize=10, ha='center', va='bottom')\n",
        "#plt.text(0.5, mean_casual_rides, f'{mean_casual_rides:.2f}', color='orange', fontsize=10, ha='center', va='bottom')\n",
        "\n",
        "# Exibindo o gráfico\n",
        "plt.show()\n",
        "\n",
        "\n"
      ],
      "metadata": {
        "colab": {
          "base_uri": "https://localhost:8080/",
          "height": 472
        },
        "id": "7qjRJPux7huB",
        "outputId": "bd49fbcd-451a-4edb-c0d2-7b5ce4bd3db3"
      },
      "execution_count": null,
      "outputs": [
        {
          "output_type": "display_data",
          "data": {
            "text/plain": [
              "<Figure size 640x480 with 1 Axes>"
            ],
            "image/png": "[encoded data removed]"
          },
          "metadata": {}
        }
      ]
    },
    {
      "cell_type": "markdown",
      "source": [
        "**Distribution of service usage between members x casual by day of the week**\n",
        "\n"
      ],
      "metadata": {
        "id": "aQXNTU-kCV4n"
      }
    },
    {
      "cell_type": "code",
      "source": [
        "bike_grp['day_of_week'].value_counts()"
      ],
      "metadata": {
        "colab": {
          "base_uri": "https://localhost:8080/"
        },
        "id": "ru7iGvasqOxr",
        "outputId": "f5257236-cdd3-4d3a-fcdb-e2796ecbc058"
      },
      "execution_count": null,
      "outputs": [
        {
          "output_type": "execute_result",
          "data": {
            "text/plain": [
              "member_casual  day_of_week\n",
              "casual         Saturday       310166\n",
              "               Sunday         254761\n",
              "               Friday         227869\n",
              "               Thursday       198931\n",
              "               Wednesday      183092\n",
              "               Tuesday        181537\n",
              "               Monday         175401\n",
              "member         Wednesday      452721\n",
              "               Thursday       452660\n",
              "               Tuesday        448850\n",
              "               Friday         400507\n",
              "               Monday         386697\n",
              "               Saturday       350645\n",
              "               Sunday         307870\n",
              "Name: day_of_week, dtype: int64"
            ]
          },
          "metadata": {},
          "execution_count": 30
        }
      ]
    },
    {
      "cell_type": "code",
      "source": [
        "# Setting the order of the days of the week\n",
        "order_of_days = ['Monday', 'Tuesday', 'Wednesday', 'Thursday', 'Friday', 'Saturday', 'Sunday']\n",
        "\n",
        "# Aggregating the data and maintaining the groups\n",
        "grouped_data = bikedata.groupby(['member_casual', 'day_of_week']).size().reset_index(name='number_of_rides')\n",
        "\n",
        "# Plotting the graph with the specified order\n",
        "sns.barplot(data=grouped_data, x='day_of_week', y='number_of_rides', hue='member_casual', dodge=True, order=order_of_days)\n",
        "plt.xlabel('')\n",
        "plt.ylabel('Number of rides')\n",
        "plt.title('Number of rides by user type')\n",
        "plt.xticks(rotation=45, ha='right')\n",
        "plt.legend(title='User types', loc='upper right', bbox_to_anchor=(1.25, 1))\n",
        "plt.show()"
      ],
      "metadata": {
        "colab": {
          "base_uri": "https://localhost:8080/",
          "height": 505
        },
        "id": "SXcG99-yCPY7",
        "outputId": "fe33c254-ee72-4ea4-d01f-61b097a0a1dd"
      },
      "execution_count": null,
      "outputs": [
        {
          "output_type": "display_data",
          "data": {
            "text/plain": [
              "<Figure size 640x480 with 1 Axes>"
            ],
            "image/png": "[encoded data removed]"
          },
          "metadata": {}
        }
      ]
    },
    {
      "cell_type": "markdown",
      "source": [
        "**Observing the Avarage distance by user type**"
      ],
      "metadata": {
        "id": "J8pc9MLnZwbL"
      }
    },
    {
      "cell_type": "code",
      "source": [
        "# Grouping data by member and month and calculating the average trip length\n",
        "grouped_data = bikedata.groupby(['member_casual', 'month'])['ride_distance'].mean().reset_index()\n",
        "\n",
        "# Plotting the graph\n",
        "sns.barplot(data=grouped_data, x='month', y='ride_distance', hue='member_casual', dodge=True)\n",
        "plt.xlabel('Month')\n",
        "plt.ylabel('Average ride distance (in meters)')\n",
        "plt.title('Average distance by year')\n",
        "plt.legend(title='User Type', loc='upper right', bbox_to_anchor=(1.25, 1))\n",
        "plt.show()"
      ],
      "metadata": {
        "colab": {
          "base_uri": "https://localhost:8080/",
          "height": 472
        },
        "id": "T36CSXdlTwOe",
        "outputId": "424aa754-6467-4e5e-ca2e-74361a814367"
      },
      "execution_count": null,
      "outputs": [
        {
          "output_type": "display_data",
          "data": {
            "text/plain": [
              "<Figure size 640x480 with 1 Axes>"
            ],
            "image/png": "[encoded data removed]"
          },
          "metadata": {}
        }
      ]
    },
    {
      "cell_type": "code",
      "source": [
        "# Setting the order of the days of the week\n",
        "order_of_days = ['Monday', 'Tuesday', 'Wednesday', 'Thursday', 'Friday', 'Saturday', 'Sunday']\n",
        "\n",
        "# Grouping data by member and month and calculating the average trip length\n",
        "grouped_data = bikedata.groupby(['member_casual', 'day_of_week'])['ride_distance'].mean().reset_index()\n",
        "\n",
        "sns.barplot(data=grouped_data, x='day_of_week', y='ride_distance', hue='member_casual', order=order_of_days, dodge=True)\n",
        "plt.xlabel('')\n",
        "plt.ylabel('Average ride distance (in meters)')\n",
        "plt.title('Average distance by day of week')\n",
        "plt.legend(title='User Type', loc='upper right', bbox_to_anchor=(1.25, 1))\n",
        "plt.xticks(rotation=45, ha='right')\n",
        "plt.show()"
      ],
      "metadata": {
        "colab": {
          "base_uri": "https://localhost:8080/",
          "height": 505
        },
        "id": "WFtcKN6qW2aV",
        "outputId": "633551b5-563c-4541-e654-41136f34ab12"
      },
      "execution_count": null,
      "outputs": [
        {
          "output_type": "display_data",
          "data": {
            "text/plain": [
              "<Figure size 640x480 with 1 Axes>"
            ],
            "image/png": "[encoded data removed]"
          },
          "metadata": {}
        }
      ]
    },
    {
      "cell_type": "markdown",
      "source": [
        "**Observing the average length by user type**"
      ],
      "metadata": {
        "id": "qTSoZnIJZX7J"
      }
    },
    {
      "cell_type": "code",
      "source": [
        "# Converting the 'ride length' column from seconds to minutes\n",
        "bikedata['ride_length_min'] = bikedata['ride_length'] / 60\n",
        "\n",
        "# Grouping data by member and month and calculating the average trip length\n",
        "grouped_data = bikedata.groupby(['member_casual', 'month'])['ride_length_min'].mean().reset_index()\n",
        "\n",
        "# Plotting the graph\n",
        "sns.barplot(data=grouped_data, x='month', y='ride_length_min', hue='member_casual', dodge=True)\n",
        "plt.xlabel('Month')\n",
        "plt.ylabel('Average ride lenght (in minutes)')\n",
        "plt.title('Average ride lenght by year')\n",
        "plt.legend(title='User Type', loc='upper right', bbox_to_anchor=(1.25, 1))\n",
        "plt.show()"
      ],
      "metadata": {
        "colab": {
          "base_uri": "https://localhost:8080/",
          "height": 472
        },
        "id": "sAL_ieFHZY0E",
        "outputId": "b4a6f95b-acb5-43c1-c1a0-e62d7c2f18dd"
      },
      "execution_count": null,
      "outputs": [
        {
          "output_type": "display_data",
          "data": {
            "text/plain": [
              "<Figure size 640x480 with 1 Axes>"
            ],
            "image/png": "[encoded data removed]"
          },
          "metadata": {}
        }
      ]
    },
    {
      "cell_type": "code",
      "source": [
        "# Setting the order of the days of the week\n",
        "order_of_days = ['Monday', 'Tuesday', 'Wednesday', 'Thursday', 'Friday', 'Saturday', 'Sunday']\n",
        "\n",
        "# Converting the 'ride_length' column from seconds to minutes\n",
        "bikedata['ride_length_min'] = bikedata['ride_length'] / 60\n",
        "\n",
        "# Grouping data by member and month and calculating the average trip length\n",
        "grouped_data = bikedata.groupby(['member_casual', 'day_of_week'])['ride_length_min'].mean().reset_index()\n",
        "\n",
        "# Plotting the graph\n",
        "sns.barplot(data=grouped_data, x='day_of_week', y='ride_length_min', hue='member_casual', order=order_of_days, dodge=True)\n",
        "plt.xlabel('')\n",
        "plt.ylabel('Average ride lenght (in minutes)')\n",
        "plt.title('Average ride lenght')\n",
        "plt.legend(title='User Type', loc='upper right', bbox_to_anchor=(1.25, 1))\n",
        "plt.xticks(rotation=45, ha='right')\n",
        "plt.show()"
      ],
      "metadata": {
        "colab": {
          "base_uri": "https://localhost:8080/",
          "height": 505
        },
        "id": "FkBv8slqZXNr",
        "outputId": "47610755-7c73-4705-e940-046b138ecd61"
      },
      "execution_count": null,
      "outputs": [
        {
          "output_type": "display_data",
          "data": {
            "text/plain": [
              "<Figure size 640x480 with 1 Axes>"
            ],
            "image/png": "[encoded data removed]"
          },
          "metadata": {}
        }
      ]
    },
    {
      "cell_type": "code",
      "source": [
        "# Setting the order of the days of the week\n",
        "order_of_days = ['Monday', 'Tuesday', 'Wednesday', 'Thursday', 'Friday', 'Saturday', 'Sunday']\n",
        "\n",
        "# Converting the 'ride_length' column from seconds to minutes\n",
        "bikedata['ride_length_min'] = bikedata['ride_length'] / 60\n",
        "\n",
        "# Grouping data by member and day of the week and calculating the average trip length\n",
        "grouped_data = bikedata.groupby(['member_casual', 'day_of_week'])['ride_length_min'].mean().reset_index()\n",
        "\n",
        "# Plotting the horizontal bar graph\n",
        "sns.barplot(data=grouped_data, y='day_of_week', x='ride_length_min', hue='member_casual', order=order_of_days, dodge=True)\n",
        "plt.xlabel('Average ride lenght (in minutes)')\n",
        "plt.ylabel('')\n",
        "plt.title('Average ride lenght')\n",
        "plt.legend(title='User Type', loc='upper right', bbox_to_anchor=(1.25, 1))\n",
        "plt.tight_layout()\n",
        "plt.show()"
      ],
      "metadata": {
        "colab": {
          "base_uri": "https://localhost:8080/",
          "height": 487
        },
        "id": "2N2s_81Bcb-m",
        "outputId": "53d8a9cf-98a8-4d08-f7f9-f0dcdb3e954a"
      },
      "execution_count": 9,
      "outputs": [
        {
          "output_type": "display_data",
          "data": {
            "text/plain": [
              "<Figure size 640x480 with 1 Axes>"
            ],
            "image/png": "[encoded data removed]"
          },
          "metadata": {}
        }
      ]
    },
    {
      "cell_type": "markdown",
      "source": [
        "**Top 5 starting and ending stations**"
      ],
      "metadata": {
        "id": "ARFioNbGptkG"
      }
    },
    {
      "cell_type": "code",
      "source": [
        "# Calculando as contagens de início de estação\n",
        "top_start_station = bikedata.groupby(['start_station_name', 'member_casual']).size().reset_index(name='row_count')\n",
        "top_start_station = top_start_station.sort_values(by='row_count', ascending=False)\n",
        "\n",
        "# Calculando as contagens de fim de estação\n",
        "top_end_station = bikedata.groupby(['end_station_name', 'member_casual']).size().reset_index(name='row_count')\n",
        "top_end_station = top_end_station.sort_values(by='row_count', ascending=False)"
      ],
      "metadata": {
        "id": "ywH2GZIDozPz"
      },
      "execution_count": 4,
      "outputs": []
    },
    {
      "cell_type": "code",
      "source": [
        "# Defining the Top 5 starting and ending stations\n",
        "top5_start_stations = top_start_station.head(5).sort_values(by='row_count', ascending=True)\n",
        "top5_end_stations = top_end_station.head(5).sort_values(by='row_count', ascending=True)\n",
        "\n",
        "# Creating subplots\n",
        "fig, axs = plt.subplots(1, 2, figsize=(14, 6))\n",
        "\n",
        "# Plotting the Top 5 starting stations\n",
        "bars1 = axs[0].barh(top5_start_stations['start_station_name'], top5_start_stations['row_count'], color='skyblue')\n",
        "\n",
        "# Adding values inside the bars\n",
        "for bar in bars1:\n",
        "    xval = bar.get_width()\n",
        "    axs[0].text(xval * 0.9, bar.get_y() + bar.get_height()/2, round(xval, 2), ha='center', va='center')\n",
        "\n",
        "axs[0].set_xlabel('Number of Trips')\n",
        "axs[0].set_ylabel('Starting Stations')\n",
        "axs[0].set_title('Top 5 Starting Stations')\n",
        "\n",
        "# Plotting the Top 5 ending stations\n",
        "bars2 = axs[1].barh(top5_end_stations['end_station_name'], top5_end_stations['row_count'], color='salmon')\n",
        "\n",
        "# Adding values inside the bars\n",
        "for bar in bars2:\n",
        "    xval = bar.get_width()\n",
        "    axs[1].text(xval * 0.9, bar.get_y() + bar.get_height()/2, round(xval, 2), ha='center', va='center')\n",
        "\n",
        "axs[1].set_xlabel('Number of Trips')\n",
        "axs[1].set_ylabel('Ending Stations')\n",
        "axs[1].set_title('Top 5 Ending Stations')\n",
        "\n",
        "plt.tight_layout()\n",
        "plt.show()"
      ],
      "metadata": {
        "colab": {
          "base_uri": "https://localhost:8080/",
          "height": 489
        },
        "id": "5iXTLcn8pPWS",
        "outputId": "b8bac1e2-a307-4062-b029-0e3e2eae32a2"
      },
      "execution_count": 8,
      "outputs": [
        {
          "output_type": "display_data",
          "data": {
            "text/plain": [
              "<Figure size 1400x600 with 2 Axes>"
            ],
            "image/png": "[encoded data removed]"
          },
          "metadata": {}
        }
      ]
    },
    {
      "cell_type": "markdown",
      "source": [
        "**Plotting map**"
      ],
      "metadata": {
        "id": "MMuWE_b6zTkX"
      }
    },
    {
      "cell_type": "code",
      "source": [
        "import folium\n",
        "from folium.plugins import HeatMap"
      ],
      "metadata": {
        "id": "Mc0Tn6m-JJI4"
      },
      "execution_count": 10,
      "outputs": []
    },
    {
      "cell_type": "code",
      "source": [
        "# Create a map\n",
        "mapa = folium.Map(location=[-23.5505, -46.6333], zoom_start=6)\n",
        "\n",
        "# Create a list of all departure and arrival coordinates\n",
        "dep_coordinates = bikedata[['start_lat', 'start_lng']].values.tolist()\n",
        "arr_coordinates = bikedata[['end_lat', 'end_lng']].values.tolist()\n",
        "coordinates = dep_coordinates + arr_coordinates\n",
        "\n",
        "# Create a heatmap with the coordinates\n",
        "heatmap = HeatMap(coordinates)\n",
        "\n",
        "# Add the heatmap to the map\n",
        "mapa.add_child(heatmap)\n",
        "\n",
        "# Save the map as an HTML file\n",
        "mapa.save('heat_map.html')"
      ],
      "metadata": {
        "id": "HgKktWBivpDI"
      },
      "execution_count": null,
      "outputs": []
    },
    {
      "cell_type": "code",
      "source": [
        "def criar_mapa_de_calor(data, filename):\n",
        "    # Lista de coordenadas de partida e chegada\n",
        "    dep_coordinates = data[['start_lat', 'start_lng']].values.tolist()\n",
        "    arr_coordinates = data[['end_lat', 'end_lng']].values.tolist()\n",
        "    coordinates = dep_coordinates + arr_coordinates\n",
        "\n",
        "    # Criar heatmap com as coordenadas\n",
        "    heatmap = HeatMap(coordinates)\n",
        "\n",
        "    # Criar e salvar o mapa como arquivo HTML\n",
        "    mapa = folium.Map(location=[-23.5505, -46.6333], zoom_start=6)\n",
        "    mapa.add_child(heatmap)\n",
        "    mapa.save(filename)\n",
        "\n",
        "# Filtrar dados para membros e clientes casuais (não membros)\n",
        "membros_data = bikedata[bikedata['member_casual'] == 'member']\n",
        "casuais_data = bikedata[bikedata['member_casual'] == 'casual']\n",
        "\n",
        "# Criar mapa de calor para membros\n",
        "criar_mapa_de_calor(membros_data, 'heat_map_membros.html')\n",
        "\n",
        "# Criar mapa de calor para clientes casuais\n",
        "criar_mapa_de_calor(casuais_data, 'heat_map_casuais.html')"
      ],
      "metadata": {
        "id": "H09n23iTf8At"
      },
      "execution_count": 11,
      "outputs": []
    }
  ]
}